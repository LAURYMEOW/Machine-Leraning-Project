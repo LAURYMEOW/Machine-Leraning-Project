{
 "cells": [
  {
   "cell_type": "code",
   "execution_count": 6,
   "id": "2ecd124d",
   "metadata": {},
   "outputs": [],
   "source": [
    "# Import libraries\n",
    "## Basic libs\n",
    "import pandas as pd\n",
    "import numpy as np\n",
    "import warnings\n",
    "## Building Model\n",
    "from sklearn import linear_model\n",
    "from scipy import stats\n",
    "import statsmodels\n",
    "import statsmodels.api as sm\n",
    "import statsmodels.formula.api as smf\n",
    "import statsmodels.stats.api as sms\n",
    "from statsmodels.compat import lzip\n",
    "## Data Visualization\n",
    "import seaborn as sb\n",
    "import matplotlib.pyplot as plt\n",
    "from mpl_toolkits.mplot3d import Axes3D\n",
    "import matplotlib.ticker as ticker\n"
   ]
  },
  {
   "cell_type": "code",
   "execution_count": 7,
   "id": "d53a654f",
   "metadata": {},
   "outputs": [
    {
     "data": {
      "text/html": [
       "<div>\n",
       "<style scoped>\n",
       "    .dataframe tbody tr th:only-of-type {\n",
       "        vertical-align: middle;\n",
       "    }\n",
       "\n",
       "    .dataframe tbody tr th {\n",
       "        vertical-align: top;\n",
       "    }\n",
       "\n",
       "    .dataframe thead th {\n",
       "        text-align: right;\n",
       "    }\n",
       "</style>\n",
       "<table border=\"1\" class=\"dataframe\">\n",
       "  <thead>\n",
       "    <tr style=\"text-align: right;\">\n",
       "      <th></th>\n",
       "      <th>country_code</th>\n",
       "      <th>country_name</th>\n",
       "      <th>year</th>\n",
       "      <th>agriculture_value_added_constants</th>\n",
       "      <th>agriculture_value_added_percentage_gdp</th>\n",
       "      <th>annual_co2_emissions_tons</th>\n",
       "      <th>inflation_inflation_gdp_deflation</th>\n",
       "      <th>deaths_from_drought</th>\n",
       "      <th>deaths_from_extreme_temps</th>\n",
       "      <th>deaths_from_floods</th>\n",
       "      <th>...</th>\n",
       "      <th>economic_damages_from_storms_as_a_share_of_gdp</th>\n",
       "      <th>economic_damages_from_wildfires</th>\n",
       "      <th>economic_damages_as_a_share_of_gdp</th>\n",
       "      <th>economic_damages</th>\n",
       "      <th>economic_damages_thousands</th>\n",
       "      <th>people_affected_per_100k</th>\n",
       "      <th>number_of_deaths</th>\n",
       "      <th>population_population_growth_annual_percentage</th>\n",
       "      <th>population_population_total</th>\n",
       "      <th>temperature_change_temp_change_celsius</th>\n",
       "    </tr>\n",
       "  </thead>\n",
       "  <tbody>\n",
       "    <tr>\n",
       "      <th>0</th>\n",
       "      <td>AFG</td>\n",
       "      <td>Afghanistan</td>\n",
       "      <td>1971</td>\n",
       "      <td>NaN</td>\n",
       "      <td>NaN</td>\n",
       "      <td>1893554</td>\n",
       "      <td>NaN</td>\n",
       "      <td>0.0</td>\n",
       "      <td>0.0</td>\n",
       "      <td>0.0</td>\n",
       "      <td>...</td>\n",
       "      <td>0.0</td>\n",
       "      <td>0.0</td>\n",
       "      <td>0.000000</td>\n",
       "      <td>0.0</td>\n",
       "      <td>0.0</td>\n",
       "      <td>0.000000</td>\n",
       "      <td>0.0</td>\n",
       "      <td>2.665129</td>\n",
       "      <td>11475450</td>\n",
       "      <td>0.652</td>\n",
       "    </tr>\n",
       "    <tr>\n",
       "      <th>1</th>\n",
       "      <td>AFG</td>\n",
       "      <td>Afghanistan</td>\n",
       "      <td>1972</td>\n",
       "      <td>NaN</td>\n",
       "      <td>NaN</td>\n",
       "      <td>1530347</td>\n",
       "      <td>NaN</td>\n",
       "      <td>0.0</td>\n",
       "      <td>0.0</td>\n",
       "      <td>150.0</td>\n",
       "      <td>...</td>\n",
       "      <td>0.0</td>\n",
       "      <td>0.0</td>\n",
       "      <td>0.000000</td>\n",
       "      <td>0.0</td>\n",
       "      <td>0.0</td>\n",
       "      <td>2120.261216</td>\n",
       "      <td>150.0</td>\n",
       "      <td>2.714539</td>\n",
       "      <td>11791222</td>\n",
       "      <td>-1.089</td>\n",
       "    </tr>\n",
       "    <tr>\n",
       "      <th>2</th>\n",
       "      <td>AFG</td>\n",
       "      <td>Afghanistan</td>\n",
       "      <td>1976</td>\n",
       "      <td>NaN</td>\n",
       "      <td>NaN</td>\n",
       "      <td>1980859</td>\n",
       "      <td>NaN</td>\n",
       "      <td>0.0</td>\n",
       "      <td>0.0</td>\n",
       "      <td>51.0</td>\n",
       "      <td>...</td>\n",
       "      <td>0.0</td>\n",
       "      <td>0.0</td>\n",
       "      <td>0.000000</td>\n",
       "      <td>0.0</td>\n",
       "      <td>0.0</td>\n",
       "      <td>618.094723</td>\n",
       "      <td>51.0</td>\n",
       "      <td>1.981389</td>\n",
       "      <td>12943093</td>\n",
       "      <td>-0.295</td>\n",
       "    </tr>\n",
       "    <tr>\n",
       "      <th>3</th>\n",
       "      <td>AFG</td>\n",
       "      <td>Afghanistan</td>\n",
       "      <td>1978</td>\n",
       "      <td>NaN</td>\n",
       "      <td>NaN</td>\n",
       "      <td>2153300</td>\n",
       "      <td>NaN</td>\n",
       "      <td>0.0</td>\n",
       "      <td>0.0</td>\n",
       "      <td>120.0</td>\n",
       "      <td>...</td>\n",
       "      <td>0.0</td>\n",
       "      <td>0.0</td>\n",
       "      <td>0.393939</td>\n",
       "      <td>52000.0</td>\n",
       "      <td>52000.0</td>\n",
       "      <td>1979.191965</td>\n",
       "      <td>120.0</td>\n",
       "      <td>1.281715</td>\n",
       "      <td>13341199</td>\n",
       "      <td>0.105</td>\n",
       "    </tr>\n",
       "    <tr>\n",
       "      <th>4</th>\n",
       "      <td>AFG</td>\n",
       "      <td>Afghanistan</td>\n",
       "      <td>1980</td>\n",
       "      <td>NaN</td>\n",
       "      <td>NaN</td>\n",
       "      <td>1756302</td>\n",
       "      <td>NaN</td>\n",
       "      <td>0.0</td>\n",
       "      <td>0.0</td>\n",
       "      <td>0.0</td>\n",
       "      <td>...</td>\n",
       "      <td>0.0</td>\n",
       "      <td>0.0</td>\n",
       "      <td>0.000000</td>\n",
       "      <td>0.0</td>\n",
       "      <td>0.0</td>\n",
       "      <td>224.601333</td>\n",
       "      <td>0.0</td>\n",
       "      <td>-0.407658</td>\n",
       "      <td>13356500</td>\n",
       "      <td>0.690</td>\n",
       "    </tr>\n",
       "  </tbody>\n",
       "</table>\n",
       "<p>5 rows × 34 columns</p>\n",
       "</div>"
      ],
      "text/plain": [
       "  country_code country_name  year  agriculture_value_added_constants  \\\n",
       "0          AFG  Afghanistan  1971                                NaN   \n",
       "1          AFG  Afghanistan  1972                                NaN   \n",
       "2          AFG  Afghanistan  1976                                NaN   \n",
       "3          AFG  Afghanistan  1978                                NaN   \n",
       "4          AFG  Afghanistan  1980                                NaN   \n",
       "\n",
       "   agriculture_value_added_percentage_gdp  annual_co2_emissions_tons  \\\n",
       "0                                     NaN                    1893554   \n",
       "1                                     NaN                    1530347   \n",
       "2                                     NaN                    1980859   \n",
       "3                                     NaN                    2153300   \n",
       "4                                     NaN                    1756302   \n",
       "\n",
       "   inflation_inflation_gdp_deflation  deaths_from_drought  \\\n",
       "0                                NaN                  0.0   \n",
       "1                                NaN                  0.0   \n",
       "2                                NaN                  0.0   \n",
       "3                                NaN                  0.0   \n",
       "4                                NaN                  0.0   \n",
       "\n",
       "   deaths_from_extreme_temps  deaths_from_floods  ...  \\\n",
       "0                        0.0                 0.0  ...   \n",
       "1                        0.0               150.0  ...   \n",
       "2                        0.0                51.0  ...   \n",
       "3                        0.0               120.0  ...   \n",
       "4                        0.0                 0.0  ...   \n",
       "\n",
       "   economic_damages_from_storms_as_a_share_of_gdp  \\\n",
       "0                                             0.0   \n",
       "1                                             0.0   \n",
       "2                                             0.0   \n",
       "3                                             0.0   \n",
       "4                                             0.0   \n",
       "\n",
       "   economic_damages_from_wildfires  economic_damages_as_a_share_of_gdp  \\\n",
       "0                              0.0                            0.000000   \n",
       "1                              0.0                            0.000000   \n",
       "2                              0.0                            0.000000   \n",
       "3                              0.0                            0.393939   \n",
       "4                              0.0                            0.000000   \n",
       "\n",
       "   economic_damages  economic_damages_thousands  people_affected_per_100k  \\\n",
       "0               0.0                         0.0                  0.000000   \n",
       "1               0.0                         0.0               2120.261216   \n",
       "2               0.0                         0.0                618.094723   \n",
       "3           52000.0                     52000.0               1979.191965   \n",
       "4               0.0                         0.0                224.601333   \n",
       "\n",
       "   number_of_deaths  population_population_growth_annual_percentage  \\\n",
       "0               0.0                                        2.665129   \n",
       "1             150.0                                        2.714539   \n",
       "2              51.0                                        1.981389   \n",
       "3             120.0                                        1.281715   \n",
       "4               0.0                                       -0.407658   \n",
       "\n",
       "   population_population_total  temperature_change_temp_change_celsius  \n",
       "0                     11475450                                   0.652  \n",
       "1                     11791222                                  -1.089  \n",
       "2                     12943093                                  -0.295  \n",
       "3                     13341199                                   0.105  \n",
       "4                     13356500                                   0.690  \n",
       "\n",
       "[5 rows x 34 columns]"
      ]
     },
     "execution_count": 7,
     "metadata": {},
     "output_type": "execute_result"
    }
   ],
   "source": [
    "file_path = \"../Resources.2/general_dataset.csv\"\n",
    "df= pd.read_csv(file_path)\n",
    "df.head()"
   ]
  },
  {
   "cell_type": "code",
   "execution_count": 8,
   "id": "1db83bf6",
   "metadata": {},
   "outputs": [
    {
     "data": {
      "text/html": [
       "<div>\n",
       "<style scoped>\n",
       "    .dataframe tbody tr th:only-of-type {\n",
       "        vertical-align: middle;\n",
       "    }\n",
       "\n",
       "    .dataframe tbody tr th {\n",
       "        vertical-align: top;\n",
       "    }\n",
       "\n",
       "    .dataframe thead th {\n",
       "        text-align: right;\n",
       "    }\n",
       "</style>\n",
       "<table border=\"1\" class=\"dataframe\">\n",
       "  <thead>\n",
       "    <tr style=\"text-align: right;\">\n",
       "      <th></th>\n",
       "      <th>country_code</th>\n",
       "      <th>country_name</th>\n",
       "      <th>year</th>\n",
       "      <th>agriculture_value_added_constants</th>\n",
       "      <th>agriculture_value_added_percentage_gdp</th>\n",
       "      <th>annual_co2_emissions_tons</th>\n",
       "      <th>inflation_inflation_gdp_deflation</th>\n",
       "      <th>deaths_from_drought</th>\n",
       "      <th>deaths_from_extreme_temps</th>\n",
       "      <th>deaths_from_floods</th>\n",
       "      <th>...</th>\n",
       "      <th>economic_damages_from_storms_as_a_share_of_gdp</th>\n",
       "      <th>economic_damages_from_wildfires</th>\n",
       "      <th>economic_damages_as_a_share_of_gdp</th>\n",
       "      <th>economic_damages</th>\n",
       "      <th>economic_damages_thousands</th>\n",
       "      <th>people_affected_per_100k</th>\n",
       "      <th>number_of_deaths</th>\n",
       "      <th>population_population_growth_annual_percentage</th>\n",
       "      <th>population_population_total</th>\n",
       "      <th>temperature_change_temp_change_celsius</th>\n",
       "    </tr>\n",
       "  </thead>\n",
       "  <tbody>\n",
       "    <tr>\n",
       "      <th>1922</th>\n",
       "      <td>HTI</td>\n",
       "      <td>Haiti</td>\n",
       "      <td>1972</td>\n",
       "      <td>NaN</td>\n",
       "      <td>NaN</td>\n",
       "      <td>391721</td>\n",
       "      <td>1.543642</td>\n",
       "      <td>0.0</td>\n",
       "      <td>0.0</td>\n",
       "      <td>78.0</td>\n",
       "      <td>...</td>\n",
       "      <td>0.000000</td>\n",
       "      <td>0.0</td>\n",
       "      <td>0.064449</td>\n",
       "      <td>959.0</td>\n",
       "      <td>959.0</td>\n",
       "      <td>826.958859</td>\n",
       "      <td>78.0</td>\n",
       "      <td>1.670974</td>\n",
       "      <td>4837334</td>\n",
       "      <td>0.324</td>\n",
       "    </tr>\n",
       "    <tr>\n",
       "      <th>1923</th>\n",
       "      <td>HTI</td>\n",
       "      <td>Haiti</td>\n",
       "      <td>1974</td>\n",
       "      <td>NaN</td>\n",
       "      <td>NaN</td>\n",
       "      <td>472091</td>\n",
       "      <td>14.504314</td>\n",
       "      <td>0.0</td>\n",
       "      <td>0.0</td>\n",
       "      <td>0.0</td>\n",
       "      <td>...</td>\n",
       "      <td>0.000000</td>\n",
       "      <td>0.0</td>\n",
       "      <td>0.000000</td>\n",
       "      <td>0.0</td>\n",
       "      <td>0.0</td>\n",
       "      <td>10131.894484</td>\n",
       "      <td>0.0</td>\n",
       "      <td>1.715022</td>\n",
       "      <td>5003708</td>\n",
       "      <td>-0.189</td>\n",
       "    </tr>\n",
       "    <tr>\n",
       "      <th>1924</th>\n",
       "      <td>HTI</td>\n",
       "      <td>Haiti</td>\n",
       "      <td>1977</td>\n",
       "      <td>NaN</td>\n",
       "      <td>NaN</td>\n",
       "      <td>704144</td>\n",
       "      <td>3.883897</td>\n",
       "      <td>0.0</td>\n",
       "      <td>0.0</td>\n",
       "      <td>0.0</td>\n",
       "      <td>...</td>\n",
       "      <td>0.000000</td>\n",
       "      <td>0.0</td>\n",
       "      <td>0.000000</td>\n",
       "      <td>0.0</td>\n",
       "      <td>0.0</td>\n",
       "      <td>8498.583569</td>\n",
       "      <td>0.0</td>\n",
       "      <td>1.964309</td>\n",
       "      <td>5294625</td>\n",
       "      <td>0.387</td>\n",
       "    </tr>\n",
       "    <tr>\n",
       "      <th>1925</th>\n",
       "      <td>HTI</td>\n",
       "      <td>Haiti</td>\n",
       "      <td>1979</td>\n",
       "      <td>NaN</td>\n",
       "      <td>NaN</td>\n",
       "      <td>749901</td>\n",
       "      <td>3.125091</td>\n",
       "      <td>0.0</td>\n",
       "      <td>0.0</td>\n",
       "      <td>0.0</td>\n",
       "      <td>...</td>\n",
       "      <td>0.000000</td>\n",
       "      <td>0.0</td>\n",
       "      <td>0.000000</td>\n",
       "      <td>0.0</td>\n",
       "      <td>0.0</td>\n",
       "      <td>20.108696</td>\n",
       "      <td>8.0</td>\n",
       "      <td>2.126862</td>\n",
       "      <td>5520187</td>\n",
       "      <td>0.133</td>\n",
       "    </tr>\n",
       "    <tr>\n",
       "      <th>1926</th>\n",
       "      <td>HTI</td>\n",
       "      <td>Haiti</td>\n",
       "      <td>1980</td>\n",
       "      <td>NaN</td>\n",
       "      <td>NaN</td>\n",
       "      <td>745071</td>\n",
       "      <td>19.263197</td>\n",
       "      <td>0.0</td>\n",
       "      <td>0.0</td>\n",
       "      <td>0.0</td>\n",
       "      <td>...</td>\n",
       "      <td>28.905911</td>\n",
       "      <td>0.0</td>\n",
       "      <td>7.226478</td>\n",
       "      <td>400000.0</td>\n",
       "      <td>400000.0</td>\n",
       "      <td>7673.223463</td>\n",
       "      <td>220.0</td>\n",
       "      <td>2.203511</td>\n",
       "      <td>5643175</td>\n",
       "      <td>0.696</td>\n",
       "    </tr>\n",
       "  </tbody>\n",
       "</table>\n",
       "<p>5 rows × 34 columns</p>\n",
       "</div>"
      ],
      "text/plain": [
       "     country_code country_name  year  agriculture_value_added_constants  \\\n",
       "1922          HTI        Haiti  1972                                NaN   \n",
       "1923          HTI        Haiti  1974                                NaN   \n",
       "1924          HTI        Haiti  1977                                NaN   \n",
       "1925          HTI        Haiti  1979                                NaN   \n",
       "1926          HTI        Haiti  1980                                NaN   \n",
       "\n",
       "      agriculture_value_added_percentage_gdp  annual_co2_emissions_tons  \\\n",
       "1922                                     NaN                     391721   \n",
       "1923                                     NaN                     472091   \n",
       "1924                                     NaN                     704144   \n",
       "1925                                     NaN                     749901   \n",
       "1926                                     NaN                     745071   \n",
       "\n",
       "      inflation_inflation_gdp_deflation  deaths_from_drought  \\\n",
       "1922                           1.543642                  0.0   \n",
       "1923                          14.504314                  0.0   \n",
       "1924                           3.883897                  0.0   \n",
       "1925                           3.125091                  0.0   \n",
       "1926                          19.263197                  0.0   \n",
       "\n",
       "      deaths_from_extreme_temps  deaths_from_floods  ...  \\\n",
       "1922                        0.0                78.0  ...   \n",
       "1923                        0.0                 0.0  ...   \n",
       "1924                        0.0                 0.0  ...   \n",
       "1925                        0.0                 0.0  ...   \n",
       "1926                        0.0                 0.0  ...   \n",
       "\n",
       "      economic_damages_from_storms_as_a_share_of_gdp  \\\n",
       "1922                                        0.000000   \n",
       "1923                                        0.000000   \n",
       "1924                                        0.000000   \n",
       "1925                                        0.000000   \n",
       "1926                                       28.905911   \n",
       "\n",
       "      economic_damages_from_wildfires  economic_damages_as_a_share_of_gdp  \\\n",
       "1922                              0.0                            0.064449   \n",
       "1923                              0.0                            0.000000   \n",
       "1924                              0.0                            0.000000   \n",
       "1925                              0.0                            0.000000   \n",
       "1926                              0.0                            7.226478   \n",
       "\n",
       "      economic_damages  economic_damages_thousands  people_affected_per_100k  \\\n",
       "1922             959.0                       959.0                826.958859   \n",
       "1923               0.0                         0.0              10131.894484   \n",
       "1924               0.0                         0.0               8498.583569   \n",
       "1925               0.0                         0.0                 20.108696   \n",
       "1926          400000.0                    400000.0               7673.223463   \n",
       "\n",
       "      number_of_deaths  population_population_growth_annual_percentage  \\\n",
       "1922              78.0                                        1.670974   \n",
       "1923               0.0                                        1.715022   \n",
       "1924               0.0                                        1.964309   \n",
       "1925               8.0                                        2.126862   \n",
       "1926             220.0                                        2.203511   \n",
       "\n",
       "      population_population_total  temperature_change_temp_change_celsius  \n",
       "1922                      4837334                                   0.324  \n",
       "1923                      5003708                                  -0.189  \n",
       "1924                      5294625                                   0.387  \n",
       "1925                      5520187                                   0.133  \n",
       "1926                      5643175                                   0.696  \n",
       "\n",
       "[5 rows x 34 columns]"
      ]
     },
     "execution_count": 8,
     "metadata": {},
     "output_type": "execute_result"
    }
   ],
   "source": [
    "hti_df= df[(df['country_name'] == 'Haiti')]\n",
    "hti_df.head()"
   ]
  },
  {
   "cell_type": "code",
   "execution_count": 9,
   "id": "080b08a6",
   "metadata": {},
   "outputs": [
    {
     "data": {
      "text/plain": [
       "['country_code',\n",
       " 'year',\n",
       " 'agriculture_value_added_constants',\n",
       " 'agriculture_value_added_percentage_gdp',\n",
       " 'annual_co2_emissions_tons',\n",
       " 'inflation_inflation_gdp_deflation',\n",
       " 'deaths_from_drought',\n",
       " 'deaths_from_extreme_temps',\n",
       " 'deaths_from_floods',\n",
       " 'deaths_from_storms',\n",
       " 'deaths_from_wildfires',\n",
       " 'people_affected_by_drought_per_100k',\n",
       " 'people_affected_by_extreme_temperatures_per_100k',\n",
       " 'people_affected_by_floods_per_100k',\n",
       " 'people_affected_by_storms_per_100k',\n",
       " 'people_affected_by_wildfires_per_100k',\n",
       " 'economic_damages_from_drought',\n",
       " 'economic_damages_from_drought_as_a_share_of_gdp',\n",
       " 'economic_damages_from_extreme_temperatures',\n",
       " 'economic_damages_from_extreme_temperatures_as_a_share_of_gdp',\n",
       " 'economic_damages_from_floods',\n",
       " 'economic_damages_from_floods_as_a_share_of_gdp',\n",
       " 'economic_damages_from_storms',\n",
       " 'economic_damages_from_storms_as_a_share_of_gdp',\n",
       " 'economic_damages_from_wildfires',\n",
       " 'economic_damages_as_a_share_of_gdp',\n",
       " 'economic_damages',\n",
       " 'economic_damages_thousands',\n",
       " 'people_affected_per_100k',\n",
       " 'number_of_deaths',\n",
       " 'population_population_growth_annual_percentage',\n",
       " 'population_population_total',\n",
       " 'temperature_change_temp_change_celsius']"
      ]
     },
     "execution_count": 9,
     "metadata": {},
     "output_type": "execute_result"
    }
   ],
   "source": [
    "hti_df= hti_df.drop(['country_name'], axis=1)\n",
    "hti_df.columns.tolist()"
   ]
  },
  {
   "cell_type": "code",
   "execution_count": 10,
   "id": "945bbce0",
   "metadata": {},
   "outputs": [
    {
     "data": {
      "text/html": [
       "<div>\n",
       "<style scoped>\n",
       "    .dataframe tbody tr th:only-of-type {\n",
       "        vertical-align: middle;\n",
       "    }\n",
       "\n",
       "    .dataframe tbody tr th {\n",
       "        vertical-align: top;\n",
       "    }\n",
       "\n",
       "    .dataframe thead th {\n",
       "        text-align: right;\n",
       "    }\n",
       "</style>\n",
       "<table border=\"1\" class=\"dataframe\">\n",
       "  <thead>\n",
       "    <tr style=\"text-align: right;\">\n",
       "      <th></th>\n",
       "      <th>country_code</th>\n",
       "      <th>agriculture_value_added_constants</th>\n",
       "      <th>agriculture_value_added_percentage_gdp</th>\n",
       "      <th>annual_co2_emissions_tons</th>\n",
       "      <th>inflation_inflation_gdp_deflation</th>\n",
       "      <th>deaths_from_drought</th>\n",
       "      <th>deaths_from_extreme_temps</th>\n",
       "      <th>deaths_from_floods</th>\n",
       "      <th>deaths_from_storms</th>\n",
       "      <th>deaths_from_wildfires</th>\n",
       "      <th>...</th>\n",
       "      <th>economic_damages_from_storms_as_a_share_of_gdp</th>\n",
       "      <th>economic_damages_from_wildfires</th>\n",
       "      <th>economic_damages_as_a_share_of_gdp</th>\n",
       "      <th>economic_damages</th>\n",
       "      <th>economic_damages_thousands</th>\n",
       "      <th>people_affected_per_100k</th>\n",
       "      <th>number_of_deaths</th>\n",
       "      <th>population_population_growth_annual_percentage</th>\n",
       "      <th>population_population_total</th>\n",
       "      <th>temperature_change_temp_change_celsius</th>\n",
       "    </tr>\n",
       "    <tr>\n",
       "      <th>year</th>\n",
       "      <th></th>\n",
       "      <th></th>\n",
       "      <th></th>\n",
       "      <th></th>\n",
       "      <th></th>\n",
       "      <th></th>\n",
       "      <th></th>\n",
       "      <th></th>\n",
       "      <th></th>\n",
       "      <th></th>\n",
       "      <th></th>\n",
       "      <th></th>\n",
       "      <th></th>\n",
       "      <th></th>\n",
       "      <th></th>\n",
       "      <th></th>\n",
       "      <th></th>\n",
       "      <th></th>\n",
       "      <th></th>\n",
       "      <th></th>\n",
       "      <th></th>\n",
       "    </tr>\n",
       "  </thead>\n",
       "  <tbody>\n",
       "    <tr>\n",
       "      <th>1988</th>\n",
       "      <td>HTI</td>\n",
       "      <td>2.940172e+09</td>\n",
       "      <td>31.110649</td>\n",
       "      <td>1007669</td>\n",
       "      <td>27.427622</td>\n",
       "      <td>0.0</td>\n",
       "      <td>0.0</td>\n",
       "      <td>27.0</td>\n",
       "      <td>54.0</td>\n",
       "      <td>0.0</td>\n",
       "      <td>...</td>\n",
       "      <td>3.492294</td>\n",
       "      <td>0.0</td>\n",
       "      <td>0.873073</td>\n",
       "      <td>91286.0</td>\n",
       "      <td>91286.0</td>\n",
       "      <td>12928.381178</td>\n",
       "      <td>81.0</td>\n",
       "      <td>2.085452</td>\n",
       "      <td>6758222</td>\n",
       "      <td>0.890</td>\n",
       "    </tr>\n",
       "    <tr>\n",
       "      <th>1989</th>\n",
       "      <td>HTI</td>\n",
       "      <td>2.901671e+09</td>\n",
       "      <td>30.592998</td>\n",
       "      <td>1023120</td>\n",
       "      <td>7.820710</td>\n",
       "      <td>0.0</td>\n",
       "      <td>0.0</td>\n",
       "      <td>0.0</td>\n",
       "      <td>0.0</td>\n",
       "      <td>0.0</td>\n",
       "      <td>...</td>\n",
       "      <td>0.000000</td>\n",
       "      <td>0.0</td>\n",
       "      <td>0.000000</td>\n",
       "      <td>0.0</td>\n",
       "      <td>0.0</td>\n",
       "      <td>361.409104</td>\n",
       "      <td>0.0</td>\n",
       "      <td>2.043616</td>\n",
       "      <td>6897755</td>\n",
       "      <td>0.508</td>\n",
       "    </tr>\n",
       "    <tr>\n",
       "      <th>1990</th>\n",
       "      <td>HTI</td>\n",
       "      <td>2.780139e+09</td>\n",
       "      <td>29.736751</td>\n",
       "      <td>994997</td>\n",
       "      <td>11.995750</td>\n",
       "      <td>0.0</td>\n",
       "      <td>0.0</td>\n",
       "      <td>0.0</td>\n",
       "      <td>0.0</td>\n",
       "      <td>0.0</td>\n",
       "      <td>...</td>\n",
       "      <td>0.000000</td>\n",
       "      <td>0.0</td>\n",
       "      <td>0.000000</td>\n",
       "      <td>0.0</td>\n",
       "      <td>0.0</td>\n",
       "      <td>0.000000</td>\n",
       "      <td>0.0</td>\n",
       "      <td>2.011597</td>\n",
       "      <td>7037915</td>\n",
       "      <td>0.876</td>\n",
       "    </tr>\n",
       "    <tr>\n",
       "      <th>1992</th>\n",
       "      <td>HTI</td>\n",
       "      <td>2.668984e+09</td>\n",
       "      <td>34.120608</td>\n",
       "      <td>888522</td>\n",
       "      <td>20.908166</td>\n",
       "      <td>0.0</td>\n",
       "      <td>0.0</td>\n",
       "      <td>0.0</td>\n",
       "      <td>0.0</td>\n",
       "      <td>0.0</td>\n",
       "      <td>...</td>\n",
       "      <td>0.000000</td>\n",
       "      <td>0.0</td>\n",
       "      <td>0.000000</td>\n",
       "      <td>0.0</td>\n",
       "      <td>0.0</td>\n",
       "      <td>13663.068725</td>\n",
       "      <td>0.0</td>\n",
       "      <td>1.943488</td>\n",
       "      <td>7319491</td>\n",
       "      <td>0.492</td>\n",
       "    </tr>\n",
       "    <tr>\n",
       "      <th>1993</th>\n",
       "      <td>HTI</td>\n",
       "      <td>2.710842e+09</td>\n",
       "      <td>30.847043</td>\n",
       "      <td>684199</td>\n",
       "      <td>18.336642</td>\n",
       "      <td>0.0</td>\n",
       "      <td>0.0</td>\n",
       "      <td>13.0</td>\n",
       "      <td>0.0</td>\n",
       "      <td>0.0</td>\n",
       "      <td>...</td>\n",
       "      <td>0.000000</td>\n",
       "      <td>0.0</td>\n",
       "      <td>0.000000</td>\n",
       "      <td>0.0</td>\n",
       "      <td>0.0</td>\n",
       "      <td>67.015145</td>\n",
       "      <td>13.0</td>\n",
       "      <td>1.910631</td>\n",
       "      <td>7460684</td>\n",
       "      <td>0.409</td>\n",
       "    </tr>\n",
       "  </tbody>\n",
       "</table>\n",
       "<p>5 rows × 32 columns</p>\n",
       "</div>"
      ],
      "text/plain": [
       "     country_code  agriculture_value_added_constants  \\\n",
       "year                                                   \n",
       "1988          HTI                       2.940172e+09   \n",
       "1989          HTI                       2.901671e+09   \n",
       "1990          HTI                       2.780139e+09   \n",
       "1992          HTI                       2.668984e+09   \n",
       "1993          HTI                       2.710842e+09   \n",
       "\n",
       "      agriculture_value_added_percentage_gdp  annual_co2_emissions_tons  \\\n",
       "year                                                                      \n",
       "1988                               31.110649                    1007669   \n",
       "1989                               30.592998                    1023120   \n",
       "1990                               29.736751                     994997   \n",
       "1992                               34.120608                     888522   \n",
       "1993                               30.847043                     684199   \n",
       "\n",
       "      inflation_inflation_gdp_deflation  deaths_from_drought  \\\n",
       "year                                                           \n",
       "1988                          27.427622                  0.0   \n",
       "1989                           7.820710                  0.0   \n",
       "1990                          11.995750                  0.0   \n",
       "1992                          20.908166                  0.0   \n",
       "1993                          18.336642                  0.0   \n",
       "\n",
       "      deaths_from_extreme_temps  deaths_from_floods  deaths_from_storms  \\\n",
       "year                                                                      \n",
       "1988                        0.0                27.0                54.0   \n",
       "1989                        0.0                 0.0                 0.0   \n",
       "1990                        0.0                 0.0                 0.0   \n",
       "1992                        0.0                 0.0                 0.0   \n",
       "1993                        0.0                13.0                 0.0   \n",
       "\n",
       "      deaths_from_wildfires  ...  \\\n",
       "year                         ...   \n",
       "1988                    0.0  ...   \n",
       "1989                    0.0  ...   \n",
       "1990                    0.0  ...   \n",
       "1992                    0.0  ...   \n",
       "1993                    0.0  ...   \n",
       "\n",
       "      economic_damages_from_storms_as_a_share_of_gdp  \\\n",
       "year                                                   \n",
       "1988                                        3.492294   \n",
       "1989                                        0.000000   \n",
       "1990                                        0.000000   \n",
       "1992                                        0.000000   \n",
       "1993                                        0.000000   \n",
       "\n",
       "      economic_damages_from_wildfires  economic_damages_as_a_share_of_gdp  \\\n",
       "year                                                                        \n",
       "1988                              0.0                            0.873073   \n",
       "1989                              0.0                            0.000000   \n",
       "1990                              0.0                            0.000000   \n",
       "1992                              0.0                            0.000000   \n",
       "1993                              0.0                            0.000000   \n",
       "\n",
       "      economic_damages  economic_damages_thousands  people_affected_per_100k  \\\n",
       "year                                                                           \n",
       "1988           91286.0                     91286.0              12928.381178   \n",
       "1989               0.0                         0.0                361.409104   \n",
       "1990               0.0                         0.0                  0.000000   \n",
       "1992               0.0                         0.0              13663.068725   \n",
       "1993               0.0                         0.0                 67.015145   \n",
       "\n",
       "      number_of_deaths  population_population_growth_annual_percentage  \\\n",
       "year                                                                     \n",
       "1988              81.0                                        2.085452   \n",
       "1989               0.0                                        2.043616   \n",
       "1990               0.0                                        2.011597   \n",
       "1992               0.0                                        1.943488   \n",
       "1993              13.0                                        1.910631   \n",
       "\n",
       "      population_population_total  temperature_change_temp_change_celsius  \n",
       "year                                                                       \n",
       "1988                      6758222                                   0.890  \n",
       "1989                      6897755                                   0.508  \n",
       "1990                      7037915                                   0.876  \n",
       "1992                      7319491                                   0.492  \n",
       "1993                      7460684                                   0.409  \n",
       "\n",
       "[5 rows x 32 columns]"
      ]
     },
     "execution_count": 10,
     "metadata": {},
     "output_type": "execute_result"
    }
   ],
   "source": [
    "hti_df= hti_df[(hti_df['year'] >= 1988) & (hti_df['year'] <= 2020)]\n",
    "hti_df.set_index('year',inplace = True)\n",
    "hti_df.head()"
   ]
  },
  {
   "cell_type": "code",
   "execution_count": 11,
   "id": "e8d99cd8",
   "metadata": {},
   "outputs": [
    {
     "name": "stdout",
     "output_type": "stream",
     "text": [
      "<class 'pandas.core.frame.DataFrame'>\n",
      "Int64Index: 30 entries, 1988 to 2020\n",
      "Data columns (total 10 columns):\n",
      " #   Column                                          Non-Null Count  Dtype  \n",
      "---  ------                                          --------------  -----  \n",
      " 0   agriculture_value_added_constants               30 non-null     float64\n",
      " 1   agriculture_value_added_percentage_gdp          30 non-null     float64\n",
      " 2   annual_co2_emissions_tons                       30 non-null     int64  \n",
      " 3   inflation_inflation_gdp_deflation               30 non-null     float64\n",
      " 4   economic_damages_as_a_share_of_gdp              30 non-null     float64\n",
      " 5   people_affected_per_100k                        30 non-null     float64\n",
      " 6   number_of_deaths                                30 non-null     float64\n",
      " 7   population_population_growth_annual_percentage  30 non-null     float64\n",
      " 8   population_population_total                     30 non-null     int64  \n",
      " 9   temperature_change_temp_change_celsius          30 non-null     float64\n",
      "dtypes: float64(8), int64(2)\n",
      "memory usage: 2.6 KB\n"
     ]
    }
   ],
   "source": [
    "hti_df = hti_df.drop([\n",
    " 'country_code',\n",
    " 'deaths_from_drought',\n",
    " 'deaths_from_extreme_temps',\n",
    " 'deaths_from_floods',\n",
    " 'deaths_from_storms',\n",
    " 'deaths_from_wildfires',\n",
    " 'people_affected_by_drought_per_100k',\n",
    " 'people_affected_by_extreme_temperatures_per_100k',\n",
    " 'people_affected_by_floods_per_100k',\n",
    " 'people_affected_by_storms_per_100k',\n",
    " 'people_affected_by_wildfires_per_100k',\n",
    " 'economic_damages_from_drought',\n",
    " 'economic_damages_from_drought_as_a_share_of_gdp',\n",
    " 'economic_damages_from_extreme_temperatures',\n",
    " 'economic_damages_from_extreme_temperatures_as_a_share_of_gdp',\n",
    " 'economic_damages_from_floods',\n",
    " 'economic_damages_from_floods_as_a_share_of_gdp',\n",
    " 'economic_damages_from_storms',\n",
    " 'economic_damages_from_storms_as_a_share_of_gdp',\n",
    " 'economic_damages_from_wildfires',\n",
    " 'economic_damages',\n",
    " 'economic_damages_thousands',\n",
    "], axis=1)\n",
    "hti_df.info()"
   ]
  },
  {
   "cell_type": "code",
   "execution_count": 12,
   "id": "394f6893",
   "metadata": {},
   "outputs": [
    {
     "data": {
      "text/plain": [
       "['agriculture_value_added_constants',\n",
       " 'agriculture_value_added_percentage_gdp',\n",
       " 'annual_co2_emissions_tons',\n",
       " 'inflation_inflation_gdp_deflation',\n",
       " 'economic_damages_as_a_share_of_gdp',\n",
       " 'people_affected_per_100k',\n",
       " 'number_of_deaths',\n",
       " 'population_population_growth_annual_percentage',\n",
       " 'population_population_total',\n",
       " 'temperature_change_temp_change_celsius']"
      ]
     },
     "execution_count": 12,
     "metadata": {},
     "output_type": "execute_result"
    }
   ],
   "source": [
    "hti_df.columns.tolist()"
   ]
  },
  {
   "cell_type": "code",
   "execution_count": 13,
   "id": "6f19b5f2",
   "metadata": {},
   "outputs": [
    {
     "name": "stderr",
     "output_type": "stream",
     "text": [
      "C:\\Users\\Laura\\anaconda3\\envs\\mlenv\\lib\\site-packages\\seaborn\\distributions.py:2619: FutureWarning: `distplot` is a deprecated function and will be removed in a future version. Please adapt your code to use either `displot` (a figure-level function with similar flexibility) or `kdeplot` (an axes-level function for kernel density plots).\n",
      "  warnings.warn(msg, FutureWarning)\n",
      "C:\\Users\\Laura\\anaconda3\\envs\\mlenv\\lib\\site-packages\\seaborn\\distributions.py:2103: FutureWarning: The `axis` variable is no longer used and will be removed. Instead, assign variables directly to `x` or `y`.\n",
      "  warnings.warn(msg, FutureWarning)\n",
      "C:\\Users\\Laura\\anaconda3\\envs\\mlenv\\lib\\site-packages\\seaborn\\distributions.py:2619: FutureWarning: `distplot` is a deprecated function and will be removed in a future version. Please adapt your code to use either `displot` (a figure-level function with similar flexibility) or `kdeplot` (an axes-level function for kernel density plots).\n",
      "  warnings.warn(msg, FutureWarning)\n",
      "C:\\Users\\Laura\\anaconda3\\envs\\mlenv\\lib\\site-packages\\seaborn\\distributions.py:2103: FutureWarning: The `axis` variable is no longer used and will be removed. Instead, assign variables directly to `x` or `y`.\n",
      "  warnings.warn(msg, FutureWarning)\n",
      "C:\\Users\\Laura\\anaconda3\\envs\\mlenv\\lib\\site-packages\\pandas\\core\\arraylike.py:364: RuntimeWarning: divide by zero encountered in log\n",
      "  result = getattr(ufunc, method)(*inputs, **kwargs)\n",
      "C:\\Users\\Laura\\anaconda3\\envs\\mlenv\\lib\\site-packages\\seaborn\\distributions.py:2619: FutureWarning: `distplot` is a deprecated function and will be removed in a future version. Please adapt your code to use either `displot` (a figure-level function with similar flexibility) or `kdeplot` (an axes-level function for kernel density plots).\n",
      "  warnings.warn(msg, FutureWarning)\n",
      "C:\\Users\\Laura\\anaconda3\\envs\\mlenv\\lib\\site-packages\\seaborn\\distributions.py:2103: FutureWarning: The `axis` variable is no longer used and will be removed. Instead, assign variables directly to `x` or `y`.\n",
      "  warnings.warn(msg, FutureWarning)\n"
     ]
    },
    {
     "data": {
      "image/png": "[encoded data removed]",
      "text/plain": [
       "<Figure size 432x432 with 3 Axes>"
      ]
     },
     "metadata": {
      "needs_background": "light"
     },
     "output_type": "display_data"
    }
   ],
   "source": [
    "fig, axes = plt.subplots(nrows=3, ncols=1, figsize=(6, 6))\n",
    "sb.distplot(\n",
    "    hti_df.economic_damages_as_a_share_of_gdp,\n",
    "    hist    = False,\n",
    "    rug     = True,\n",
    "    color   = \"blue\",\n",
    "    kde_kws = {'shade': True, 'linewidth': 1},\n",
    "    ax      = axes[0]\n",
    ")\n",
    "axes[0].set_title(\"Distribución original\", fontsize = 'medium')\n",
    "axes[0].set_xlabel('precio', fontsize='small') \n",
    "axes[0].tick_params(labelsize = 6)\n",
    "\n",
    "sb.distplot(\n",
    "    np.sqrt(hti_df.economic_damages_as_a_share_of_gdp),\n",
    "    hist    = False,\n",
    "    rug     = True,\n",
    "    color   = \"blue\",\n",
    "    kde_kws = {'shade': True, 'linewidth': 1},\n",
    "    ax      = axes[1]\n",
    ")\n",
    "axes[1].set_title(\"Transformación raíz cuadrada\", fontsize = 'medium')\n",
    "axes[1].set_xlabel('sqrt(economic_damages_as_a_share_of_gdp)', fontsize='small') \n",
    "axes[1].tick_params(labelsize = 6)\n",
    "\n",
    "sb.distplot(\n",
    "    np.log(hti_df.economic_damages_as_a_share_of_gdp),\n",
    "    hist    = False,\n",
    "    rug     = True,\n",
    "    color   = \"blue\",\n",
    "    kde_kws = {'shade': True, 'linewidth': 1},\n",
    "    ax      = axes[2]\n",
    ")\n",
    "axes[2].set_title(\"Transformación logarítmica\", fontsize = 'medium')\n",
    "axes[2].set_xlabel('log(economic_damages_as_a_share_of_gdp)', fontsize='small') \n",
    "axes[2].tick_params(labelsize = 6)\n",
    "\n",
    "fig.tight_layout()"
   ]
  },
  {
   "cell_type": "code",
   "execution_count": 14,
   "id": "f8fd215e",
   "metadata": {},
   "outputs": [
    {
     "data": {
      "text/html": [
       "<div>\n",
       "<style scoped>\n",
       "    .dataframe tbody tr th:only-of-type {\n",
       "        vertical-align: middle;\n",
       "    }\n",
       "\n",
       "    .dataframe tbody tr th {\n",
       "        vertical-align: top;\n",
       "    }\n",
       "\n",
       "    .dataframe thead th {\n",
       "        text-align: right;\n",
       "    }\n",
       "</style>\n",
       "<table border=\"1\" class=\"dataframe\">\n",
       "  <thead>\n",
       "    <tr style=\"text-align: right;\">\n",
       "      <th></th>\n",
       "      <th>sumsquare_error</th>\n",
       "      <th>aic</th>\n",
       "      <th>bic</th>\n",
       "      <th>kl_div</th>\n",
       "      <th>ks_statistic</th>\n",
       "      <th>ks_pvalue</th>\n",
       "    </tr>\n",
       "  </thead>\n",
       "  <tbody>\n",
       "    <tr>\n",
       "      <th>beta</th>\n",
       "      <td>135.340785</td>\n",
       "      <td>3241.094991</td>\n",
       "      <td>58.802746</td>\n",
       "      <td>inf</td>\n",
       "      <td>0.652112</td>\n",
       "      <td>5.264817e-13</td>\n",
       "    </tr>\n",
       "    <tr>\n",
       "      <th>gamma</th>\n",
       "      <td>272.856911</td>\n",
       "      <td>479.183846</td>\n",
       "      <td>76.436096</td>\n",
       "      <td>inf</td>\n",
       "      <td>0.645186</td>\n",
       "      <td>1.056638e-12</td>\n",
       "    </tr>\n",
       "    <tr>\n",
       "      <th>expon</th>\n",
       "      <td>304.593716</td>\n",
       "      <td>1279.069049</td>\n",
       "      <td>76.335838</td>\n",
       "      <td>inf</td>\n",
       "      <td>0.750032</td>\n",
       "      <td>5.688774e-18</td>\n",
       "    </tr>\n",
       "    <tr>\n",
       "      <th>lognorm</th>\n",
       "      <td>317.378554</td>\n",
       "      <td>813.552629</td>\n",
       "      <td>80.970528</td>\n",
       "      <td>inf</td>\n",
       "      <td>0.633333</td>\n",
       "      <td>3.380553e-12</td>\n",
       "    </tr>\n",
       "    <tr>\n",
       "      <th>exponpow</th>\n",
       "      <td>321.826322</td>\n",
       "      <td>686.823735</td>\n",
       "      <td>81.388032</td>\n",
       "      <td>inf</td>\n",
       "      <td>0.631210</td>\n",
       "      <td>4.148003e-12</td>\n",
       "    </tr>\n",
       "    <tr>\n",
       "      <th>powerlaw</th>\n",
       "      <td>339.773378</td>\n",
       "      <td>331.020700</td>\n",
       "      <td>83.016036</td>\n",
       "      <td>inf</td>\n",
       "      <td>0.727185</td>\n",
       "      <td>1.108333e-16</td>\n",
       "    </tr>\n",
       "    <tr>\n",
       "      <th>chi2</th>\n",
       "      <td>344.417982</td>\n",
       "      <td>397.557511</td>\n",
       "      <td>83.423350</td>\n",
       "      <td>inf</td>\n",
       "      <td>0.749145</td>\n",
       "      <td>6.410181e-18</td>\n",
       "    </tr>\n",
       "    <tr>\n",
       "      <th>logistic</th>\n",
       "      <td>375.525471</td>\n",
       "      <td>1353.461297</td>\n",
       "      <td>82.616262</td>\n",
       "      <td>inf</td>\n",
       "      <td>0.394323</td>\n",
       "      <td>1.022850e-04</td>\n",
       "    </tr>\n",
       "    <tr>\n",
       "      <th>norm</th>\n",
       "      <td>393.338948</td>\n",
       "      <td>885.388759</td>\n",
       "      <td>84.006624</td>\n",
       "      <td>inf</td>\n",
       "      <td>0.397405</td>\n",
       "      <td>8.723354e-05</td>\n",
       "    </tr>\n",
       "    <tr>\n",
       "      <th>cauchy</th>\n",
       "      <td>412.409577</td>\n",
       "      <td>9392.107171</td>\n",
       "      <td>85.426983</td>\n",
       "      <td>inf</td>\n",
       "      <td>0.689824</td>\n",
       "      <td>9.362901e-15</td>\n",
       "    </tr>\n",
       "  </tbody>\n",
       "</table>\n",
       "</div>"
      ],
      "text/plain": [
       "          sumsquare_error          aic        bic  kl_div  ks_statistic  \\\n",
       "beta           135.340785  3241.094991  58.802746     inf      0.652112   \n",
       "gamma          272.856911   479.183846  76.436096     inf      0.645186   \n",
       "expon          304.593716  1279.069049  76.335838     inf      0.750032   \n",
       "lognorm        317.378554   813.552629  80.970528     inf      0.633333   \n",
       "exponpow       321.826322   686.823735  81.388032     inf      0.631210   \n",
       "powerlaw       339.773378   331.020700  83.016036     inf      0.727185   \n",
       "chi2           344.417982   397.557511  83.423350     inf      0.749145   \n",
       "logistic       375.525471  1353.461297  82.616262     inf      0.394323   \n",
       "norm           393.338948   885.388759  84.006624     inf      0.397405   \n",
       "cauchy         412.409577  9392.107171  85.426983     inf      0.689824   \n",
       "\n",
       "             ks_pvalue  \n",
       "beta      5.264817e-13  \n",
       "gamma     1.056638e-12  \n",
       "expon     5.688774e-18  \n",
       "lognorm   3.380553e-12  \n",
       "exponpow  4.148003e-12  \n",
       "powerlaw  1.108333e-16  \n",
       "chi2      6.410181e-18  \n",
       "logistic  1.022850e-04  \n",
       "norm      8.723354e-05  \n",
       "cauchy    9.362901e-15  "
      ]
     },
     "execution_count": 14,
     "metadata": {},
     "output_type": "execute_result"
    }
   ],
   "source": [
    "from fitter import Fitter\n",
    "distribuciones = ['cauchy', 'chi2', 'expon',  'exponpow', 'gamma',\n",
    "                  'norm', 'powerlaw', 'beta', 'logistic', 'lognorm']\n",
    "\n",
    "fitter = Fitter(hti_df.economic_damages_as_a_share_of_gdp, distributions=distribuciones)\n",
    "fitter.fit()\n",
    "fitter.summary(Nbest=10, plot=False)"
   ]
  },
  {
   "cell_type": "markdown",
   "id": "51ab0336",
   "metadata": {},
   "source": [
    "Pairplot() function from the Seaborn library will output a figure containing histogram and scatter plot between each variable."
   ]
  },
  {
   "cell_type": "code",
   "execution_count": 15,
   "id": "41915f82",
   "metadata": {},
   "outputs": [
    {
     "data": {
      "text/plain": [
       "<seaborn.axisgrid.PairGrid at 0x235114a6688>"
      ]
     },
     "execution_count": 15,
     "metadata": {},
     "output_type": "execute_result"
    },
    {
     "data": {
      "image/png": "[encoded data removed]",
      "text/plain": [
       "<Figure size 2160x2160 with 110 Axes>"
      ]
     },
     "metadata": {
      "needs_background": "light"
     },
     "output_type": "display_data"
    }
   ],
   "source": [
    "# Visualize the data using scatter plot and histogram\n",
    "sb.set_palette('colorblind')\n",
    "sb.pairplot(data=hti_df, height=3)"
   ]
  },
  {
   "cell_type": "code",
   "execution_count": 16,
   "id": "dd07442f",
   "metadata": {},
   "outputs": [
    {
     "data": {
      "text/html": [
       "<div>\n",
       "<style scoped>\n",
       "    .dataframe tbody tr th:only-of-type {\n",
       "        vertical-align: middle;\n",
       "    }\n",
       "\n",
       "    .dataframe tbody tr th {\n",
       "        vertical-align: top;\n",
       "    }\n",
       "\n",
       "    .dataframe thead th {\n",
       "        text-align: right;\n",
       "    }\n",
       "</style>\n",
       "<table border=\"1\" class=\"dataframe\">\n",
       "  <thead>\n",
       "    <tr style=\"text-align: right;\">\n",
       "      <th></th>\n",
       "      <th>agriculture_value_added_constants</th>\n",
       "      <th>agriculture_value_added_percentage_gdp</th>\n",
       "      <th>annual_co2_emissions_tons</th>\n",
       "      <th>inflation_inflation_gdp_deflation</th>\n",
       "      <th>economic_damages_as_a_share_of_gdp</th>\n",
       "      <th>people_affected_per_100k</th>\n",
       "      <th>number_of_deaths</th>\n",
       "      <th>population_population_growth_annual_percentage</th>\n",
       "      <th>population_population_total</th>\n",
       "      <th>temperature_change_temp_change_celsius</th>\n",
       "    </tr>\n",
       "  </thead>\n",
       "  <tbody>\n",
       "    <tr>\n",
       "      <th>agriculture_value_added_constants</th>\n",
       "      <td>1.000000</td>\n",
       "      <td>0.507059</td>\n",
       "      <td>-0.093286</td>\n",
       "      <td>-0.259306</td>\n",
       "      <td>-0.008574</td>\n",
       "      <td>0.014129</td>\n",
       "      <td>-0.316741</td>\n",
       "      <td>0.240571</td>\n",
       "      <td>-0.163897</td>\n",
       "      <td>-0.171410</td>\n",
       "    </tr>\n",
       "    <tr>\n",
       "      <th>agriculture_value_added_percentage_gdp</th>\n",
       "      <td>0.507059</td>\n",
       "      <td>1.000000</td>\n",
       "      <td>-0.630560</td>\n",
       "      <td>0.198078</td>\n",
       "      <td>0.011815</td>\n",
       "      <td>0.177447</td>\n",
       "      <td>-0.123978</td>\n",
       "      <td>0.689454</td>\n",
       "      <td>-0.674813</td>\n",
       "      <td>-0.343760</td>\n",
       "    </tr>\n",
       "    <tr>\n",
       "      <th>annual_co2_emissions_tons</th>\n",
       "      <td>-0.093286</td>\n",
       "      <td>-0.630560</td>\n",
       "      <td>1.000000</td>\n",
       "      <td>-0.301074</td>\n",
       "      <td>0.108885</td>\n",
       "      <td>0.045011</td>\n",
       "      <td>-0.106336</td>\n",
       "      <td>-0.938399</td>\n",
       "      <td>0.943305</td>\n",
       "      <td>0.681937</td>\n",
       "    </tr>\n",
       "    <tr>\n",
       "      <th>inflation_inflation_gdp_deflation</th>\n",
       "      <td>-0.259306</td>\n",
       "      <td>0.198078</td>\n",
       "      <td>-0.301074</td>\n",
       "      <td>1.000000</td>\n",
       "      <td>0.063999</td>\n",
       "      <td>0.145960</td>\n",
       "      <td>0.159594</td>\n",
       "      <td>0.248116</td>\n",
       "      <td>-0.281639</td>\n",
       "      <td>-0.040013</td>\n",
       "    </tr>\n",
       "    <tr>\n",
       "      <th>economic_damages_as_a_share_of_gdp</th>\n",
       "      <td>-0.008574</td>\n",
       "      <td>0.011815</td>\n",
       "      <td>0.108885</td>\n",
       "      <td>0.063999</td>\n",
       "      <td>1.000000</td>\n",
       "      <td>0.884217</td>\n",
       "      <td>0.106144</td>\n",
       "      <td>-0.080908</td>\n",
       "      <td>0.078288</td>\n",
       "      <td>0.200577</td>\n",
       "    </tr>\n",
       "    <tr>\n",
       "      <th>people_affected_per_100k</th>\n",
       "      <td>0.014129</td>\n",
       "      <td>0.177447</td>\n",
       "      <td>0.045011</td>\n",
       "      <td>0.145960</td>\n",
       "      <td>0.884217</td>\n",
       "      <td>1.000000</td>\n",
       "      <td>0.131632</td>\n",
       "      <td>-0.036106</td>\n",
       "      <td>0.037523</td>\n",
       "      <td>0.157611</td>\n",
       "    </tr>\n",
       "    <tr>\n",
       "      <th>number_of_deaths</th>\n",
       "      <td>-0.316741</td>\n",
       "      <td>-0.123978</td>\n",
       "      <td>-0.106336</td>\n",
       "      <td>0.159594</td>\n",
       "      <td>0.106144</td>\n",
       "      <td>0.131632</td>\n",
       "      <td>1.000000</td>\n",
       "      <td>0.025172</td>\n",
       "      <td>-0.037163</td>\n",
       "      <td>-0.086279</td>\n",
       "    </tr>\n",
       "    <tr>\n",
       "      <th>population_population_growth_annual_percentage</th>\n",
       "      <td>0.240571</td>\n",
       "      <td>0.689454</td>\n",
       "      <td>-0.938399</td>\n",
       "      <td>0.248116</td>\n",
       "      <td>-0.080908</td>\n",
       "      <td>-0.036106</td>\n",
       "      <td>0.025172</td>\n",
       "      <td>1.000000</td>\n",
       "      <td>-0.994809</td>\n",
       "      <td>-0.692178</td>\n",
       "    </tr>\n",
       "    <tr>\n",
       "      <th>population_population_total</th>\n",
       "      <td>-0.163897</td>\n",
       "      <td>-0.674813</td>\n",
       "      <td>0.943305</td>\n",
       "      <td>-0.281639</td>\n",
       "      <td>0.078288</td>\n",
       "      <td>0.037523</td>\n",
       "      <td>-0.037163</td>\n",
       "      <td>-0.994809</td>\n",
       "      <td>1.000000</td>\n",
       "      <td>0.671873</td>\n",
       "    </tr>\n",
       "    <tr>\n",
       "      <th>temperature_change_temp_change_celsius</th>\n",
       "      <td>-0.171410</td>\n",
       "      <td>-0.343760</td>\n",
       "      <td>0.681937</td>\n",
       "      <td>-0.040013</td>\n",
       "      <td>0.200577</td>\n",
       "      <td>0.157611</td>\n",
       "      <td>-0.086279</td>\n",
       "      <td>-0.692178</td>\n",
       "      <td>0.671873</td>\n",
       "      <td>1.000000</td>\n",
       "    </tr>\n",
       "  </tbody>\n",
       "</table>\n",
       "</div>"
      ],
      "text/plain": [
       "                                                agriculture_value_added_constants  \\\n",
       "agriculture_value_added_constants                                        1.000000   \n",
       "agriculture_value_added_percentage_gdp                                   0.507059   \n",
       "annual_co2_emissions_tons                                               -0.093286   \n",
       "inflation_inflation_gdp_deflation                                       -0.259306   \n",
       "economic_damages_as_a_share_of_gdp                                      -0.008574   \n",
       "people_affected_per_100k                                                 0.014129   \n",
       "number_of_deaths                                                        -0.316741   \n",
       "population_population_growth_annual_percentage                           0.240571   \n",
       "population_population_total                                             -0.163897   \n",
       "temperature_change_temp_change_celsius                                  -0.171410   \n",
       "\n",
       "                                                agriculture_value_added_percentage_gdp  \\\n",
       "agriculture_value_added_constants                                             0.507059   \n",
       "agriculture_value_added_percentage_gdp                                        1.000000   \n",
       "annual_co2_emissions_tons                                                    -0.630560   \n",
       "inflation_inflation_gdp_deflation                                             0.198078   \n",
       "economic_damages_as_a_share_of_gdp                                            0.011815   \n",
       "people_affected_per_100k                                                      0.177447   \n",
       "number_of_deaths                                                             -0.123978   \n",
       "population_population_growth_annual_percentage                                0.689454   \n",
       "population_population_total                                                  -0.674813   \n",
       "temperature_change_temp_change_celsius                                       -0.343760   \n",
       "\n",
       "                                                annual_co2_emissions_tons  \\\n",
       "agriculture_value_added_constants                               -0.093286   \n",
       "agriculture_value_added_percentage_gdp                          -0.630560   \n",
       "annual_co2_emissions_tons                                        1.000000   \n",
       "inflation_inflation_gdp_deflation                               -0.301074   \n",
       "economic_damages_as_a_share_of_gdp                               0.108885   \n",
       "people_affected_per_100k                                         0.045011   \n",
       "number_of_deaths                                                -0.106336   \n",
       "population_population_growth_annual_percentage                  -0.938399   \n",
       "population_population_total                                      0.943305   \n",
       "temperature_change_temp_change_celsius                           0.681937   \n",
       "\n",
       "                                                inflation_inflation_gdp_deflation  \\\n",
       "agriculture_value_added_constants                                       -0.259306   \n",
       "agriculture_value_added_percentage_gdp                                   0.198078   \n",
       "annual_co2_emissions_tons                                               -0.301074   \n",
       "inflation_inflation_gdp_deflation                                        1.000000   \n",
       "economic_damages_as_a_share_of_gdp                                       0.063999   \n",
       "people_affected_per_100k                                                 0.145960   \n",
       "number_of_deaths                                                         0.159594   \n",
       "population_population_growth_annual_percentage                           0.248116   \n",
       "population_population_total                                             -0.281639   \n",
       "temperature_change_temp_change_celsius                                  -0.040013   \n",
       "\n",
       "                                                economic_damages_as_a_share_of_gdp  \\\n",
       "agriculture_value_added_constants                                        -0.008574   \n",
       "agriculture_value_added_percentage_gdp                                    0.011815   \n",
       "annual_co2_emissions_tons                                                 0.108885   \n",
       "inflation_inflation_gdp_deflation                                         0.063999   \n",
       "economic_damages_as_a_share_of_gdp                                        1.000000   \n",
       "people_affected_per_100k                                                  0.884217   \n",
       "number_of_deaths                                                          0.106144   \n",
       "population_population_growth_annual_percentage                           -0.080908   \n",
       "population_population_total                                               0.078288   \n",
       "temperature_change_temp_change_celsius                                    0.200577   \n",
       "\n",
       "                                                people_affected_per_100k  \\\n",
       "agriculture_value_added_constants                               0.014129   \n",
       "agriculture_value_added_percentage_gdp                          0.177447   \n",
       "annual_co2_emissions_tons                                       0.045011   \n",
       "inflation_inflation_gdp_deflation                               0.145960   \n",
       "economic_damages_as_a_share_of_gdp                              0.884217   \n",
       "people_affected_per_100k                                        1.000000   \n",
       "number_of_deaths                                                0.131632   \n",
       "population_population_growth_annual_percentage                 -0.036106   \n",
       "population_population_total                                     0.037523   \n",
       "temperature_change_temp_change_celsius                          0.157611   \n",
       "\n",
       "                                                number_of_deaths  \\\n",
       "agriculture_value_added_constants                      -0.316741   \n",
       "agriculture_value_added_percentage_gdp                 -0.123978   \n",
       "annual_co2_emissions_tons                              -0.106336   \n",
       "inflation_inflation_gdp_deflation                       0.159594   \n",
       "economic_damages_as_a_share_of_gdp                      0.106144   \n",
       "people_affected_per_100k                                0.131632   \n",
       "number_of_deaths                                        1.000000   \n",
       "population_population_growth_annual_percentage          0.025172   \n",
       "population_population_total                            -0.037163   \n",
       "temperature_change_temp_change_celsius                 -0.086279   \n",
       "\n",
       "                                                population_population_growth_annual_percentage  \\\n",
       "agriculture_value_added_constants                                                     0.240571   \n",
       "agriculture_value_added_percentage_gdp                                                0.689454   \n",
       "annual_co2_emissions_tons                                                            -0.938399   \n",
       "inflation_inflation_gdp_deflation                                                     0.248116   \n",
       "economic_damages_as_a_share_of_gdp                                                   -0.080908   \n",
       "people_affected_per_100k                                                             -0.036106   \n",
       "number_of_deaths                                                                      0.025172   \n",
       "population_population_growth_annual_percentage                                        1.000000   \n",
       "population_population_total                                                          -0.994809   \n",
       "temperature_change_temp_change_celsius                                               -0.692178   \n",
       "\n",
       "                                                population_population_total  \\\n",
       "agriculture_value_added_constants                                 -0.163897   \n",
       "agriculture_value_added_percentage_gdp                            -0.674813   \n",
       "annual_co2_emissions_tons                                          0.943305   \n",
       "inflation_inflation_gdp_deflation                                 -0.281639   \n",
       "economic_damages_as_a_share_of_gdp                                 0.078288   \n",
       "people_affected_per_100k                                           0.037523   \n",
       "number_of_deaths                                                  -0.037163   \n",
       "population_population_growth_annual_percentage                    -0.994809   \n",
       "population_population_total                                        1.000000   \n",
       "temperature_change_temp_change_celsius                             0.671873   \n",
       "\n",
       "                                                temperature_change_temp_change_celsius  \n",
       "agriculture_value_added_constants                                            -0.171410  \n",
       "agriculture_value_added_percentage_gdp                                       -0.343760  \n",
       "annual_co2_emissions_tons                                                     0.681937  \n",
       "inflation_inflation_gdp_deflation                                            -0.040013  \n",
       "economic_damages_as_a_share_of_gdp                                            0.200577  \n",
       "people_affected_per_100k                                                      0.157611  \n",
       "number_of_deaths                                                             -0.086279  \n",
       "population_population_growth_annual_percentage                               -0.692178  \n",
       "population_population_total                                                   0.671873  \n",
       "temperature_change_temp_change_celsius                                        1.000000  "
      ]
     },
     "execution_count": 16,
     "metadata": {},
     "output_type": "execute_result"
    }
   ],
   "source": [
    "hti_df.corr ()"
   ]
  },
  {
   "cell_type": "code",
   "execution_count": 17,
   "id": "08f2fe62",
   "metadata": {},
   "outputs": [],
   "source": [
    "hti_corr_df = hti_df.corr(method='spearman')"
   ]
  },
  {
   "cell_type": "code",
   "execution_count": 18,
   "id": "b471f974",
   "metadata": {},
   "outputs": [
    {
     "data": {
      "image/png": "[encoded data removed]",
      "text/plain": [
       "<Figure size 576x432 with 2 Axes>"
      ]
     },
     "metadata": {
      "needs_background": "light"
     },
     "output_type": "display_data"
    }
   ],
   "source": [
    "plt.figure(figsize=(8, 6))\n",
    "sb.heatmap(hti_corr_df, annot=True)\n",
    "plt.show()"
   ]
  },
  {
   "cell_type": "markdown",
   "id": "c41df473",
   "metadata": {},
   "source": [
    "### CORRELATION TESTS"
   ]
  },
  {
   "cell_type": "markdown",
   "id": "3b66a313",
   "metadata": {},
   "source": [
    "El análisis gráfico hecho previamente y los test estadísticos mostraron evidencias de que no se puede asumir normalidad en las variables de desastres. Siendo estrictos, este hecho excluye la posibilidad de utilizar el coeficiente de Pearson, dejando como alternativas el de Spearman o Kendall. Sin embargo, dado que la distribución no se aleja mucho de la normalidad y de que el coeficiente de Pearson tiene cierta robustez, a fines prácticos sí que se podría utilizar siempre y cuando se tenga en cuenta este hecho y se comunique en los resultados. Otra posibilidad es tratar de transformar las variables para mejorar su distribución, por ejemplo, aplicando el logaritmo."
   ]
  },
  {
   "cell_type": "code",
   "execution_count": 19,
   "id": "f99389d1",
   "metadata": {},
   "outputs": [
    {
     "name": "stdout",
     "output_type": "stream",
     "text": [
      "Correlación Pearson:  0.6718731895585782\n",
      "Correlación spearman:  0.6533926585094549\n",
      "Correlación kendall:  0.4666666666666667\n"
     ]
    }
   ],
   "source": [
    "print('Correlación Pearson: ', hti_df['temperature_change_temp_change_celsius'].corr(hti_df['population_population_total'], method='pearson'))\n",
    "print('Correlación spearman: ', hti_df['temperature_change_temp_change_celsius'].corr(hti_df['population_population_total'], method='spearman'))\n",
    "print('Correlación kendall: ', hti_df['temperature_change_temp_change_celsius'].corr(hti_df['population_population_total'], method='kendall'))"
   ]
  },
  {
   "cell_type": "code",
   "execution_count": 20,
   "id": "b40e65ff",
   "metadata": {},
   "outputs": [
    {
     "data": {
      "image/png": "[encoded data removed]",
      "text/plain": [
       "<Figure size 432x288 with 1 Axes>"
      ]
     },
     "metadata": {
      "needs_background": "light"
     },
     "output_type": "display_data"
    }
   ],
   "source": [
    "plt.scatter(hti_df.population_population_total , hti_df.temperature_change_temp_change_celsius )\n",
    "plt.xlabel('population_population_total')\n",
    "plt.ylabel('temperature_change_temp_change_celsius')\n",
    "plt.show()"
   ]
  },
  {
   "cell_type": "code",
   "execution_count": 21,
   "id": "42abee85",
   "metadata": {},
   "outputs": [
    {
     "name": "stdout",
     "output_type": "stream",
     "text": [
      "Correlación Pearson:  -0.6921776009117921\n",
      "Correlación spearman:  -0.6533926585094549\n",
      "Correlación kendall:  -0.4666666666666667\n"
     ]
    }
   ],
   "source": [
    "print('Correlación Pearson: ', hti_df['temperature_change_temp_change_celsius'].corr(hti_df['population_population_growth_annual_percentage'], method='pearson'))\n",
    "print('Correlación spearman: ', hti_df['temperature_change_temp_change_celsius'].corr(hti_df['population_population_growth_annual_percentage'], method='spearman'))\n",
    "print('Correlación kendall: ', hti_df['temperature_change_temp_change_celsius'].corr(hti_df['population_population_growth_annual_percentage'], method='kendall'))"
   ]
  },
  {
   "cell_type": "code",
   "execution_count": 22,
   "id": "b59c8a92",
   "metadata": {},
   "outputs": [
    {
     "data": {
      "image/png": "[encoded data removed]",
      "text/plain": [
       "<Figure size 432x288 with 1 Axes>"
      ]
     },
     "metadata": {
      "needs_background": "light"
     },
     "output_type": "display_data"
    }
   ],
   "source": [
    "plt.scatter(hti_df.population_population_growth_annual_percentage, hti_df.temperature_change_temp_change_celsius )\n",
    "plt.xlabel('population_population_growth_annual_percentage')\n",
    "plt.ylabel('temperature_change_temp_change_celsius')\n",
    "plt.show()"
   ]
  },
  {
   "cell_type": "code",
   "execution_count": 23,
   "id": "8fafb202",
   "metadata": {},
   "outputs": [
    {
     "name": "stdout",
     "output_type": "stream",
     "text": [
      "Correlación Pearson:  0.6819370931565247\n",
      "Correlación spearman:  0.6449388209121245\n",
      "Correlación kendall:  0.46206896551724136\n"
     ]
    }
   ],
   "source": [
    "print('Correlación Pearson: ', hti_df['temperature_change_temp_change_celsius'].corr(hti_df['annual_co2_emissions_tons'], method='pearson'))\n",
    "print('Correlación spearman: ', hti_df['temperature_change_temp_change_celsius'].corr(hti_df['annual_co2_emissions_tons'], method='spearman'))\n",
    "print('Correlación kendall: ', hti_df['temperature_change_temp_change_celsius'].corr(hti_df['annual_co2_emissions_tons'], method='kendall'))"
   ]
  },
  {
   "cell_type": "code",
   "execution_count": 24,
   "id": "19a356ec",
   "metadata": {},
   "outputs": [
    {
     "data": {
      "image/png": "[encoded data removed]",
      "text/plain": [
       "<Figure size 432x288 with 1 Axes>"
      ]
     },
     "metadata": {
      "needs_background": "light"
     },
     "output_type": "display_data"
    }
   ],
   "source": [
    "plt.scatter(hti_df.annual_co2_emissions_tons, hti_df.temperature_change_temp_change_celsius )\n",
    "plt.xlabel('annual_co2_emissions_tons')\n",
    "plt.ylabel('temperature_change_temp_change_celsius')\n",
    "plt.show()"
   ]
  },
  {
   "cell_type": "code",
   "execution_count": 25,
   "id": "4d5c5b69",
   "metadata": {},
   "outputs": [
    {
     "name": "stdout",
     "output_type": "stream",
     "text": [
      "Correlación Pearson:  0.20057688940492782\n",
      "Correlación spearman:  -0.015192907767686293\n",
      "Correlación kendall:  0.005901785264970925\n"
     ]
    }
   ],
   "source": [
    "print('Correlación Pearson: ', hti_df['temperature_change_temp_change_celsius'].corr(hti_df['economic_damages_as_a_share_of_gdp'], method='pearson'))\n",
    "print('Correlación spearman: ', hti_df['temperature_change_temp_change_celsius'].corr(hti_df['economic_damages_as_a_share_of_gdp'], method='spearman'))\n",
    "print('Correlación kendall: ', hti_df['temperature_change_temp_change_celsius'].corr(hti_df['economic_damages_as_a_share_of_gdp'], method='kendall'))"
   ]
  },
  {
   "cell_type": "code",
   "execution_count": 26,
   "id": "b94da0ff",
   "metadata": {},
   "outputs": [
    {
     "data": {
      "image/png": "[encoded data removed]",
      "text/plain": [
       "<Figure size 432x288 with 1 Axes>"
      ]
     },
     "metadata": {
      "needs_background": "light"
     },
     "output_type": "display_data"
    }
   ],
   "source": [
    "plt.scatter(hti_df.economic_damages_as_a_share_of_gdp, hti_df.temperature_change_temp_change_celsius )\n",
    "plt.xlabel('economic_damages_as_a_share_of_gdp')\n",
    "plt.ylabel('temperature_change_temp_change_celsius')\n",
    "plt.show()"
   ]
  },
  {
   "cell_type": "code",
   "execution_count": 27,
   "id": "b654a9f1",
   "metadata": {},
   "outputs": [],
   "source": [
    "# Correlación sin outlier\n",
    "#r, p = stats.pearsonr(np.delete(a, 5), np.delete(b, 5))\n",
    "#print(f\"Correlación Pearson sin outlier: r={r}, p-value={p}\")"
   ]
  },
  {
   "cell_type": "code",
   "execution_count": 28,
   "id": "f00dbb42",
   "metadata": {},
   "outputs": [
    {
     "name": "stdout",
     "output_type": "stream",
     "text": [
      "Correlación Pearson:  -0.0862789276343365\n",
      "Correlación spearman:  -0.03565464589691843\n",
      "Correlación kendall:  -0.023284796312594613\n"
     ]
    }
   ],
   "source": [
    "print('Correlación Pearson: ', hti_df['temperature_change_temp_change_celsius'].corr(hti_df['number_of_deaths'], method='pearson'))\n",
    "print('Correlación spearman: ', hti_df['temperature_change_temp_change_celsius'].corr(hti_df['number_of_deaths'], method='spearman'))\n",
    "print('Correlación kendall: ', hti_df['temperature_change_temp_change_celsius'].corr(hti_df['number_of_deaths'], method='kendall'))"
   ]
  },
  {
   "cell_type": "code",
   "execution_count": 29,
   "id": "a4e032b4",
   "metadata": {},
   "outputs": [
    {
     "data": {
      "image/png": "[encoded data removed]",
      "text/plain": [
       "<Figure size 432x288 with 1 Axes>"
      ]
     },
     "metadata": {
      "needs_background": "light"
     },
     "output_type": "display_data"
    }
   ],
   "source": [
    "plt.scatter(hti_df.number_of_deaths, hti_df.temperature_change_temp_change_celsius )\n",
    "plt.xlabel('number_of_deaths')\n",
    "plt.ylabel('temperature_change_temp_change_celsius')\n",
    "plt.show()"
   ]
  },
  {
   "cell_type": "code",
   "execution_count": 30,
   "id": "62d8b1ef",
   "metadata": {},
   "outputs": [],
   "source": [
    "# Correlación sin outlier\n",
    "#Pendiente\n"
   ]
  },
  {
   "cell_type": "code",
   "execution_count": 31,
   "id": "33ef4e68",
   "metadata": {},
   "outputs": [
    {
     "name": "stdout",
     "output_type": "stream",
     "text": [
      "Correlación Pearson:  0.10614412546931169\n",
      "Correlación spearman:  0.5855184546725992\n",
      "Correlación kendall:  0.4722502486105752\n"
     ]
    }
   ],
   "source": [
    "print('Correlación Pearson: ', hti_df['number_of_deaths'].corr(hti_df['economic_damages_as_a_share_of_gdp'], method='pearson'))\n",
    "print('Correlación spearman: ', hti_df['number_of_deaths'].corr(hti_df['economic_damages_as_a_share_of_gdp'], method='spearman'))\n",
    "print('Correlación kendall: ', hti_df['number_of_deaths'].corr(hti_df['economic_damages_as_a_share_of_gdp'], method='kendall'))"
   ]
  },
  {
   "cell_type": "code",
   "execution_count": 32,
   "id": "98f653b3",
   "metadata": {},
   "outputs": [
    {
     "data": {
      "image/png": "[encoded data removed]",
      "text/plain": [
       "<Figure size 432x288 with 1 Axes>"
      ]
     },
     "metadata": {
      "needs_background": "light"
     },
     "output_type": "display_data"
    }
   ],
   "source": [
    "plt.scatter(hti_df.number_of_deaths, hti_df.economic_damages_as_a_share_of_gdp )\n",
    "plt.xlabel('number_of_deaths')\n",
    "plt.ylabel('economic_damages_as_a_share_of_gdp')\n",
    "plt.show()"
   ]
  },
  {
   "cell_type": "code",
   "execution_count": 33,
   "id": "64f8ec61",
   "metadata": {},
   "outputs": [],
   "source": [
    "# Correlación sin outlier\n",
    "#Pendiente\n"
   ]
  },
  {
   "cell_type": "code",
   "execution_count": 34,
   "id": "339195b9",
   "metadata": {},
   "outputs": [
    {
     "name": "stdout",
     "output_type": "stream",
     "text": [
      "Correlación Pearson:  0.884216627791326\n",
      "Correlación spearman:  0.4653213127531058\n",
      "Correlación kendall:  0.3761613034367152\n"
     ]
    }
   ],
   "source": [
    "print('Correlación Pearson: ', hti_df['people_affected_per_100k'].corr(hti_df['economic_damages_as_a_share_of_gdp'], method='pearson'))\n",
    "print('Correlación spearman: ', hti_df['people_affected_per_100k'].corr(hti_df['economic_damages_as_a_share_of_gdp'], method='spearman'))\n",
    "print('Correlación kendall: ', hti_df['people_affected_per_100k'].corr(hti_df['economic_damages_as_a_share_of_gdp'], method='kendall'))"
   ]
  },
  {
   "cell_type": "code",
   "execution_count": 35,
   "id": "83e22c1b",
   "metadata": {},
   "outputs": [
    {
     "data": {
      "image/png": "[encoded data removed]",
      "text/plain": [
       "<Figure size 432x288 with 1 Axes>"
      ]
     },
     "metadata": {
      "needs_background": "light"
     },
     "output_type": "display_data"
    }
   ],
   "source": [
    "plt.scatter(hti_df.people_affected_per_100k, hti_df.economic_damages_as_a_share_of_gdp )\n",
    "plt.xlabel('people_affected_per_100k')\n",
    "plt.ylabel('economic_damages_as_a_share_of_gdp')\n",
    "plt.show()"
   ]
  },
  {
   "cell_type": "code",
   "execution_count": 36,
   "id": "81941846",
   "metadata": {},
   "outputs": [],
   "source": [
    "# Correlación sin outlier\n",
    "#Pendiente\n"
   ]
  },
  {
   "cell_type": "code",
   "execution_count": 37,
   "id": "170c45df",
   "metadata": {},
   "outputs": [
    {
     "name": "stdout",
     "output_type": "stream",
     "text": [
      "Correlación Pearson:  0.0639991268134139\n",
      "Correlación spearman:  0.2593094596959339\n",
      "Correlación kendall:  0.20066069900901146\n"
     ]
    }
   ],
   "source": [
    "print('Correlación Pearson: ', hti_df['economic_damages_as_a_share_of_gdp'].corr(hti_df['inflation_inflation_gdp_deflation'], method='pearson'))\n",
    "print('Correlación spearman: ', hti_df['economic_damages_as_a_share_of_gdp'].corr(hti_df['inflation_inflation_gdp_deflation'], method='spearman'))\n",
    "print('Correlación kendall: ', hti_df['economic_damages_as_a_share_of_gdp'].corr(hti_df['inflation_inflation_gdp_deflation'], method='kendall'))"
   ]
  },
  {
   "cell_type": "code",
   "execution_count": 38,
   "id": "b49dfc66",
   "metadata": {},
   "outputs": [
    {
     "data": {
      "image/png": "[encoded data removed]",
      "text/plain": [
       "<Figure size 432x288 with 1 Axes>"
      ]
     },
     "metadata": {
      "needs_background": "light"
     },
     "output_type": "display_data"
    }
   ],
   "source": [
    "plt.scatter(hti_df.inflation_inflation_gdp_deflation, hti_df.economic_damages_as_a_share_of_gdp )\n",
    "plt.xlabel('inflation_inflation_gdp_deflation')\n",
    "plt.ylabel('economic_damages_as_a_share_of_gdp')\n",
    "plt.show()"
   ]
  },
  {
   "cell_type": "code",
   "execution_count": 39,
   "id": "be0a8fb4",
   "metadata": {},
   "outputs": [
    {
     "name": "stdout",
     "output_type": "stream",
     "text": [
      "Correlación Pearson:  -0.25930585569913495\n",
      "Correlación spearman:  -0.2266963292547275\n",
      "Correlación kendall:  -0.18160919540229886\n"
     ]
    }
   ],
   "source": [
    "print('Correlación Pearson: ', hti_df['inflation_inflation_gdp_deflation'].corr(hti_df['agriculture_value_added_constants'], method='pearson'))\n",
    "print('Correlación spearman: ', hti_df['inflation_inflation_gdp_deflation'].corr(hti_df['agriculture_value_added_constants'], method='spearman'))\n",
    "print('Correlación kendall: ', hti_df['inflation_inflation_gdp_deflation'].corr(hti_df['agriculture_value_added_constants'], method='kendall'))"
   ]
  },
  {
   "cell_type": "code",
   "execution_count": 40,
   "id": "fd8b8b7e",
   "metadata": {},
   "outputs": [
    {
     "data": {
      "image/png": "[encoded data removed]",
      "text/plain": [
       "<Figure size 432x288 with 1 Axes>"
      ]
     },
     "metadata": {
      "needs_background": "light"
     },
     "output_type": "display_data"
    }
   ],
   "source": [
    "plt.scatter(hti_df.inflation_inflation_gdp_deflation, hti_df.agriculture_value_added_constants)\n",
    "plt.xlabel('inflation_inflation_gdp_deflation')\n",
    "plt.ylabel('agriculture_value_added_constants')\n",
    "plt.show()"
   ]
  },
  {
   "cell_type": "code",
   "execution_count": 41,
   "id": "506efa8f",
   "metadata": {},
   "outputs": [
    {
     "name": "stdout",
     "output_type": "stream",
     "text": [
      "Correlación Pearson: r=0.6718731895585783, p-value=4.791259224139812e-05\n",
      "Correlación Spearman: r=0.6533926585094549, p-value=9.048411497828581e-05\n",
      "Correlación Pearson: r=0.4666666666666667, p-value=0.00019297391032914847\n"
     ]
    }
   ],
   "source": [
    "# Cálculo de correlación y significancia con Scipy\n",
    "# ==============================================================================\n",
    "r, p = stats.pearsonr(hti_df['temperature_change_temp_change_celsius'], hti_df['population_population_total'])\n",
    "print(f\"Correlación Pearson: r={r}, p-value={p}\")\n",
    "\n",
    "r, p = stats.spearmanr(hti_df['temperature_change_temp_change_celsius'], hti_df['population_population_total'], nan_policy='omit')\n",
    "print(f\"Correlación Spearman: r={r}, p-value={p}\")\n",
    "\n",
    "r, p = stats.kendalltau(hti_df['temperature_change_temp_change_celsius'], hti_df['population_population_total'], nan_policy='omit')\n",
    "print(f\"Correlación Pearson: r={r}, p-value={p}\")"
   ]
  },
  {
   "cell_type": "markdown",
   "id": "76fb102e",
   "metadata": {},
   "source": [
    "## Normalizando una variable "
   ]
  },
  {
   "cell_type": "code",
   "execution_count": 42,
   "id": "bd7e585b",
   "metadata": {},
   "outputs": [
    {
     "data": {
      "text/html": [
       "<div>\n",
       "<style scoped>\n",
       "    .dataframe tbody tr th:only-of-type {\n",
       "        vertical-align: middle;\n",
       "    }\n",
       "\n",
       "    .dataframe tbody tr th {\n",
       "        vertical-align: top;\n",
       "    }\n",
       "\n",
       "    .dataframe thead th {\n",
       "        text-align: right;\n",
       "    }\n",
       "</style>\n",
       "<table border=\"1\" class=\"dataframe\">\n",
       "  <thead>\n",
       "    <tr style=\"text-align: right;\">\n",
       "      <th></th>\n",
       "      <th>agriculture_value_added_constants</th>\n",
       "      <th>agriculture_value_added_percentage_gdp</th>\n",
       "      <th>annual_co2_emissions_tons</th>\n",
       "      <th>inflation_inflation_gdp_deflation</th>\n",
       "      <th>economic_damages_as_a_share_of_gdp</th>\n",
       "      <th>people_affected_per_100k</th>\n",
       "      <th>number_of_deaths</th>\n",
       "      <th>population_population_growth_annual_percentage</th>\n",
       "      <th>population_population_total</th>\n",
       "      <th>temperature_change_temp_change_celsius</th>\n",
       "      <th>normalized_ND_2</th>\n",
       "    </tr>\n",
       "    <tr>\n",
       "      <th>year</th>\n",
       "      <th></th>\n",
       "      <th></th>\n",
       "      <th></th>\n",
       "      <th></th>\n",
       "      <th></th>\n",
       "      <th></th>\n",
       "      <th></th>\n",
       "      <th></th>\n",
       "      <th></th>\n",
       "      <th></th>\n",
       "      <th></th>\n",
       "    </tr>\n",
       "  </thead>\n",
       "  <tbody>\n",
       "    <tr>\n",
       "      <th>1988</th>\n",
       "      <td>2.940172e+09</td>\n",
       "      <td>31.110649</td>\n",
       "      <td>1007669</td>\n",
       "      <td>27.427622</td>\n",
       "      <td>0.873073</td>\n",
       "      <td>12928.381178</td>\n",
       "      <td>81.0</td>\n",
       "      <td>2.085452</td>\n",
       "      <td>6758222</td>\n",
       "      <td>0.890</td>\n",
       "      <td>0.014404</td>\n",
       "    </tr>\n",
       "    <tr>\n",
       "      <th>1989</th>\n",
       "      <td>2.901671e+09</td>\n",
       "      <td>30.592998</td>\n",
       "      <td>1023120</td>\n",
       "      <td>7.820710</td>\n",
       "      <td>0.000000</td>\n",
       "      <td>361.409104</td>\n",
       "      <td>0.0</td>\n",
       "      <td>2.043616</td>\n",
       "      <td>6897755</td>\n",
       "      <td>0.508</td>\n",
       "      <td>0.000000</td>\n",
       "    </tr>\n",
       "    <tr>\n",
       "      <th>1990</th>\n",
       "      <td>2.780139e+09</td>\n",
       "      <td>29.736751</td>\n",
       "      <td>994997</td>\n",
       "      <td>11.995750</td>\n",
       "      <td>0.000000</td>\n",
       "      <td>0.000000</td>\n",
       "      <td>0.0</td>\n",
       "      <td>2.011597</td>\n",
       "      <td>7037915</td>\n",
       "      <td>0.876</td>\n",
       "      <td>0.000000</td>\n",
       "    </tr>\n",
       "    <tr>\n",
       "      <th>1992</th>\n",
       "      <td>2.668984e+09</td>\n",
       "      <td>34.120608</td>\n",
       "      <td>888522</td>\n",
       "      <td>20.908166</td>\n",
       "      <td>0.000000</td>\n",
       "      <td>13663.068725</td>\n",
       "      <td>0.0</td>\n",
       "      <td>1.943488</td>\n",
       "      <td>7319491</td>\n",
       "      <td>0.492</td>\n",
       "      <td>0.000000</td>\n",
       "    </tr>\n",
       "    <tr>\n",
       "      <th>1993</th>\n",
       "      <td>2.710842e+09</td>\n",
       "      <td>30.847043</td>\n",
       "      <td>684199</td>\n",
       "      <td>18.336642</td>\n",
       "      <td>0.000000</td>\n",
       "      <td>67.015145</td>\n",
       "      <td>13.0</td>\n",
       "      <td>1.910631</td>\n",
       "      <td>7460684</td>\n",
       "      <td>0.409</td>\n",
       "      <td>0.002312</td>\n",
       "    </tr>\n",
       "  </tbody>\n",
       "</table>\n",
       "</div>"
      ],
      "text/plain": [
       "      agriculture_value_added_constants  \\\n",
       "year                                      \n",
       "1988                       2.940172e+09   \n",
       "1989                       2.901671e+09   \n",
       "1990                       2.780139e+09   \n",
       "1992                       2.668984e+09   \n",
       "1993                       2.710842e+09   \n",
       "\n",
       "      agriculture_value_added_percentage_gdp  annual_co2_emissions_tons  \\\n",
       "year                                                                      \n",
       "1988                               31.110649                    1007669   \n",
       "1989                               30.592998                    1023120   \n",
       "1990                               29.736751                     994997   \n",
       "1992                               34.120608                     888522   \n",
       "1993                               30.847043                     684199   \n",
       "\n",
       "      inflation_inflation_gdp_deflation  economic_damages_as_a_share_of_gdp  \\\n",
       "year                                                                          \n",
       "1988                          27.427622                            0.873073   \n",
       "1989                           7.820710                            0.000000   \n",
       "1990                          11.995750                            0.000000   \n",
       "1992                          20.908166                            0.000000   \n",
       "1993                          18.336642                            0.000000   \n",
       "\n",
       "      people_affected_per_100k  number_of_deaths  \\\n",
       "year                                               \n",
       "1988              12928.381178              81.0   \n",
       "1989                361.409104               0.0   \n",
       "1990                  0.000000               0.0   \n",
       "1992              13663.068725               0.0   \n",
       "1993                 67.015145              13.0   \n",
       "\n",
       "      population_population_growth_annual_percentage  \\\n",
       "year                                                   \n",
       "1988                                        2.085452   \n",
       "1989                                        2.043616   \n",
       "1990                                        2.011597   \n",
       "1992                                        1.943488   \n",
       "1993                                        1.910631   \n",
       "\n",
       "      population_population_total  temperature_change_temp_change_celsius  \\\n",
       "year                                                                        \n",
       "1988                      6758222                                   0.890   \n",
       "1989                      6897755                                   0.508   \n",
       "1990                      7037915                                   0.876   \n",
       "1992                      7319491                                   0.492   \n",
       "1993                      7460684                                   0.409   \n",
       "\n",
       "      normalized_ND_2  \n",
       "year                   \n",
       "1988         0.014404  \n",
       "1989         0.000000  \n",
       "1990         0.000000  \n",
       "1992         0.000000  \n",
       "1993         0.002312  "
      ]
     },
     "execution_count": 42,
     "metadata": {},
     "output_type": "execute_result"
    }
   ],
   "source": [
    "normalized_ND_2 = hti_df['number_of_deaths']/np.linalg.norm(hti_df['number_of_deaths'])\n",
    "hti_df = hti_df.assign(normalized_ND_2=normalized_ND_2)\n",
    "hti_df.head()"
   ]
  },
  {
   "cell_type": "code",
   "execution_count": 43,
   "id": "1208c6d1",
   "metadata": {},
   "outputs": [
    {
     "name": "stdout",
     "output_type": "stream",
     "text": [
      "Correlación Pearson:  -0.08627892763433652\n",
      "Correlación spearman:  -0.03565464589691843\n",
      "Correlación kendall:  -0.023284796312594613\n"
     ]
    }
   ],
   "source": [
    "print('Correlación Pearson: ', hti_df['temperature_change_temp_change_celsius'].corr(hti_df['normalized_ND_2'], method='pearson'))\n",
    "print('Correlación spearman: ', hti_df['temperature_change_temp_change_celsius'].corr(hti_df['normalized_ND_2'], method='spearman'))\n",
    "print('Correlación kendall: ', hti_df['temperature_change_temp_change_celsius'].corr(hti_df['normalized_ND_2'], method='kendall'))"
   ]
  },
  {
   "cell_type": "code",
   "execution_count": 44,
   "id": "e0da739f",
   "metadata": {},
   "outputs": [
    {
     "data": {
      "text/html": [
       "<div>\n",
       "<style scoped>\n",
       "    .dataframe tbody tr th:only-of-type {\n",
       "        vertical-align: middle;\n",
       "    }\n",
       "\n",
       "    .dataframe tbody tr th {\n",
       "        vertical-align: top;\n",
       "    }\n",
       "\n",
       "    .dataframe thead th {\n",
       "        text-align: right;\n",
       "    }\n",
       "</style>\n",
       "<table border=\"1\" class=\"dataframe\">\n",
       "  <thead>\n",
       "    <tr style=\"text-align: right;\">\n",
       "      <th></th>\n",
       "      <th>agriculture_value_added_constants</th>\n",
       "      <th>agriculture_value_added_percentage_gdp</th>\n",
       "      <th>annual_co2_emissions_tons</th>\n",
       "      <th>inflation_inflation_gdp_deflation</th>\n",
       "      <th>economic_damages_as_a_share_of_gdp</th>\n",
       "      <th>people_affected_per_100k</th>\n",
       "      <th>number_of_deaths</th>\n",
       "      <th>population_population_growth_annual_percentage</th>\n",
       "      <th>population_population_total</th>\n",
       "      <th>temperature_change_temp_change_celsius</th>\n",
       "      <th>normalized_ND_2</th>\n",
       "      <th>normalized_EDPGDP</th>\n",
       "    </tr>\n",
       "    <tr>\n",
       "      <th>year</th>\n",
       "      <th></th>\n",
       "      <th></th>\n",
       "      <th></th>\n",
       "      <th></th>\n",
       "      <th></th>\n",
       "      <th></th>\n",
       "      <th></th>\n",
       "      <th></th>\n",
       "      <th></th>\n",
       "      <th></th>\n",
       "      <th></th>\n",
       "      <th></th>\n",
       "    </tr>\n",
       "  </thead>\n",
       "  <tbody>\n",
       "    <tr>\n",
       "      <th>1988</th>\n",
       "      <td>2.940172e+09</td>\n",
       "      <td>31.110649</td>\n",
       "      <td>1007669</td>\n",
       "      <td>27.427622</td>\n",
       "      <td>0.873073</td>\n",
       "      <td>12928.381178</td>\n",
       "      <td>81.0</td>\n",
       "      <td>2.085452</td>\n",
       "      <td>6758222</td>\n",
       "      <td>0.890</td>\n",
       "      <td>0.014404</td>\n",
       "      <td>0.209982</td>\n",
       "    </tr>\n",
       "    <tr>\n",
       "      <th>1989</th>\n",
       "      <td>2.901671e+09</td>\n",
       "      <td>30.592998</td>\n",
       "      <td>1023120</td>\n",
       "      <td>7.820710</td>\n",
       "      <td>0.000000</td>\n",
       "      <td>361.409104</td>\n",
       "      <td>0.0</td>\n",
       "      <td>2.043616</td>\n",
       "      <td>6897755</td>\n",
       "      <td>0.508</td>\n",
       "      <td>0.000000</td>\n",
       "      <td>0.000000</td>\n",
       "    </tr>\n",
       "    <tr>\n",
       "      <th>1990</th>\n",
       "      <td>2.780139e+09</td>\n",
       "      <td>29.736751</td>\n",
       "      <td>994997</td>\n",
       "      <td>11.995750</td>\n",
       "      <td>0.000000</td>\n",
       "      <td>0.000000</td>\n",
       "      <td>0.0</td>\n",
       "      <td>2.011597</td>\n",
       "      <td>7037915</td>\n",
       "      <td>0.876</td>\n",
       "      <td>0.000000</td>\n",
       "      <td>0.000000</td>\n",
       "    </tr>\n",
       "    <tr>\n",
       "      <th>1992</th>\n",
       "      <td>2.668984e+09</td>\n",
       "      <td>34.120608</td>\n",
       "      <td>888522</td>\n",
       "      <td>20.908166</td>\n",
       "      <td>0.000000</td>\n",
       "      <td>13663.068725</td>\n",
       "      <td>0.0</td>\n",
       "      <td>1.943488</td>\n",
       "      <td>7319491</td>\n",
       "      <td>0.492</td>\n",
       "      <td>0.000000</td>\n",
       "      <td>0.000000</td>\n",
       "    </tr>\n",
       "    <tr>\n",
       "      <th>1993</th>\n",
       "      <td>2.710842e+09</td>\n",
       "      <td>30.847043</td>\n",
       "      <td>684199</td>\n",
       "      <td>18.336642</td>\n",
       "      <td>0.000000</td>\n",
       "      <td>67.015145</td>\n",
       "      <td>13.0</td>\n",
       "      <td>1.910631</td>\n",
       "      <td>7460684</td>\n",
       "      <td>0.409</td>\n",
       "      <td>0.002312</td>\n",
       "      <td>0.000000</td>\n",
       "    </tr>\n",
       "  </tbody>\n",
       "</table>\n",
       "</div>"
      ],
      "text/plain": [
       "      agriculture_value_added_constants  \\\n",
       "year                                      \n",
       "1988                       2.940172e+09   \n",
       "1989                       2.901671e+09   \n",
       "1990                       2.780139e+09   \n",
       "1992                       2.668984e+09   \n",
       "1993                       2.710842e+09   \n",
       "\n",
       "      agriculture_value_added_percentage_gdp  annual_co2_emissions_tons  \\\n",
       "year                                                                      \n",
       "1988                               31.110649                    1007669   \n",
       "1989                               30.592998                    1023120   \n",
       "1990                               29.736751                     994997   \n",
       "1992                               34.120608                     888522   \n",
       "1993                               30.847043                     684199   \n",
       "\n",
       "      inflation_inflation_gdp_deflation  economic_damages_as_a_share_of_gdp  \\\n",
       "year                                                                          \n",
       "1988                          27.427622                            0.873073   \n",
       "1989                           7.820710                            0.000000   \n",
       "1990                          11.995750                            0.000000   \n",
       "1992                          20.908166                            0.000000   \n",
       "1993                          18.336642                            0.000000   \n",
       "\n",
       "      people_affected_per_100k  number_of_deaths  \\\n",
       "year                                               \n",
       "1988              12928.381178              81.0   \n",
       "1989                361.409104               0.0   \n",
       "1990                  0.000000               0.0   \n",
       "1992              13663.068725               0.0   \n",
       "1993                 67.015145              13.0   \n",
       "\n",
       "      population_population_growth_annual_percentage  \\\n",
       "year                                                   \n",
       "1988                                        2.085452   \n",
       "1989                                        2.043616   \n",
       "1990                                        2.011597   \n",
       "1992                                        1.943488   \n",
       "1993                                        1.910631   \n",
       "\n",
       "      population_population_total  temperature_change_temp_change_celsius  \\\n",
       "year                                                                        \n",
       "1988                      6758222                                   0.890   \n",
       "1989                      6897755                                   0.508   \n",
       "1990                      7037915                                   0.876   \n",
       "1992                      7319491                                   0.492   \n",
       "1993                      7460684                                   0.409   \n",
       "\n",
       "      normalized_ND_2  normalized_EDPGDP  \n",
       "year                                      \n",
       "1988         0.014404           0.209982  \n",
       "1989         0.000000           0.000000  \n",
       "1990         0.000000           0.000000  \n",
       "1992         0.000000           0.000000  \n",
       "1993         0.002312           0.000000  "
      ]
     },
     "execution_count": 44,
     "metadata": {},
     "output_type": "execute_result"
    }
   ],
   "source": [
    "normalized_EDPGDP = hti_df['economic_damages_as_a_share_of_gdp']/np.linalg.norm(hti_df['economic_damages_as_a_share_of_gdp'])\n",
    "hti_df = hti_df.assign(normalized_EDPGDP=normalized_EDPGDP)\n",
    "hti_df.head()"
   ]
  },
  {
   "cell_type": "code",
   "execution_count": 45,
   "id": "2872051e",
   "metadata": {},
   "outputs": [
    {
     "name": "stdout",
     "output_type": "stream",
     "text": [
      "(30,)\n",
      "Intercept: 0.18698427240806934\n",
      "Coefficients: [-3.59541545e-08  1.17541574e-01  4.42675029e-08]\n"
     ]
    }
   ],
   "source": [
    "# Set independent and dependent variables\n",
    "X = hti_df[['population_population_total','temperature_change_temp_change_celsius','annual_co2_emissions_tons']]\n",
    "y = hti_df['normalized_EDPGDP']\n",
    "\n",
    "# Initialize model from sklearn and fit it into our data\n",
    "regr = linear_model.LinearRegression()\n",
    "model = regr.fit(X, y)\n",
    "\n",
    "y_pred = regr.predict(X)\n",
    "print(y_pred.shape)\n",
    "\n",
    "print('Intercept:', model.intercept_)\n",
    "print('Coefficients:', model.coef_)"
   ]
  },
  {
   "cell_type": "code",
   "execution_count": 46,
   "id": "94ccb1a8",
   "metadata": {},
   "outputs": [
    {
     "name": "stdout",
     "output_type": "stream",
     "text": [
      "                            OLS Regression Results                            \n",
      "==============================================================================\n",
      "Dep. Variable:      normalized_EDPGDP   R-squared:                       0.051\n",
      "Model:                            OLS   Adj. R-squared:                 -0.059\n",
      "Method:                 Least Squares   F-statistic:                    0.4622\n",
      "Date:                Fri, 26 Aug 2022   Prob (F-statistic):              0.711\n",
      "Time:                        00:50:01   Log-Likelihood:                 10.866\n",
      "No. Observations:                  30   AIC:                            -13.73\n",
      "Df Residuals:                      26   BIC:                            -8.126\n",
      "Df Model:                           3                                         \n",
      "Covariance Type:            nonrobust                                         \n",
      "==========================================================================================================\n",
      "                                             coef    std err          t      P>|t|      [0.025      0.975]\n",
      "----------------------------------------------------------------------------------------------------------\n",
      "const                                      0.1870      0.457      0.409      0.686      -0.752       1.126\n",
      "population_population_total            -3.595e-08   7.26e-08     -0.495      0.625   -1.85e-07    1.13e-07\n",
      "temperature_change_temp_change_celsius     0.1175      0.123      0.956      0.348      -0.135       0.370\n",
      "annual_co2_emissions_tons               4.427e-08   1.25e-07      0.354      0.726   -2.12e-07    3.01e-07\n",
      "==============================================================================\n",
      "Omnibus:                       55.659   Durbin-Watson:                   2.208\n",
      "Prob(Omnibus):                  0.000   Jarque-Bera (JB):              374.705\n",
      "Skew:                           3.804   Prob(JB):                     4.30e-82\n",
      "Kurtosis:                      18.553   Cond. No.                     1.32e+08\n",
      "==============================================================================\n",
      "\n",
      "Notes:\n",
      "[1] Standard Errors assume that the covariance matrix of the errors is correctly specified.\n",
      "[2] The condition number is large, 1.32e+08. This might indicate that there are\n",
      "strong multicollinearity or other numerical problems.\n"
     ]
    }
   ],
   "source": [
    "X = hti_df[['population_population_total','temperature_change_temp_change_celsius','annual_co2_emissions_tons']]\n",
    "X = sm.add_constant(X) # adding a constant\n",
    "\n",
    "olsmod = sm.OLS(hti_df['normalized_EDPGDP'], X).fit()\n",
    "print(olsmod.summary())"
   ]
  },
  {
   "cell_type": "code",
   "execution_count": 47,
   "id": "cc0367fb",
   "metadata": {},
   "outputs": [
    {
     "name": "stdout",
     "output_type": "stream",
     "text": [
      "R2 score: 0.05063212197525757\n"
     ]
    }
   ],
   "source": [
    "print('R2 score:', olsmod.rsquared)"
   ]
  },
  {
   "cell_type": "code",
   "execution_count": 48,
   "id": "4e184492",
   "metadata": {},
   "outputs": [
    {
     "name": "stdout",
     "output_type": "stream",
     "text": [
      "F-statistic: 0.4622146313803653\n",
      "Probability of observing value at least as high as F-statistic: 0.7110782054618319\n"
     ]
    }
   ],
   "source": [
    "print('F-statistic:', olsmod.fvalue)\n",
    "print('Probability of observing value at least as high as F-statistic:', olsmod.f_pvalue)"
   ]
  },
  {
   "cell_type": "markdown",
   "id": "d610d83e",
   "metadata": {},
   "source": [
    "Because our f_pvalue is lower than 0.05 we can conclude that our model performs better than other simpler model."
   ]
  },
  {
   "cell_type": "code",
   "execution_count": 49,
   "id": "fe11f8d6",
   "metadata": {},
   "outputs": [
    {
     "name": "stdout",
     "output_type": "stream",
     "text": [
      "const                                     0.685569\n",
      "population_population_total               0.624767\n",
      "temperature_change_temp_change_celsius    0.347946\n",
      "annual_co2_emissions_tons                 0.725865\n",
      "dtype: float64\n"
     ]
    }
   ],
   "source": [
    "print(olsmod.pvalues)"
   ]
  },
  {
   "cell_type": "markdown",
   "id": "d3ddd0ba",
   "metadata": {},
   "source": [
    "All of our independent variables,  have p-value mayor than 0.05 which shows that there is not sufficient evidence that there variables affects our dependet variable."
   ]
  },
  {
   "cell_type": "code",
   "execution_count": 50,
   "id": "a9c761e6",
   "metadata": {},
   "outputs": [
    {
     "name": "stdout",
     "output_type": "stream",
     "text": [
      "Intercept: 15.911897023649827\n",
      "Coefficients: [6.32357453]\n"
     ]
    }
   ],
   "source": [
    "# Set independent and dependent variables\n",
    "X = hti_df[['normalized_EDPGDP']]\n",
    "y = hti_df['inflation_inflation_gdp_deflation']\n",
    "\n",
    "# Initialize model from sklearn and fit it into our data\n",
    "regr = linear_model.LinearRegression()\n",
    "model = regr.fit(X, y)\n",
    "\n",
    "print('Intercept:', model.intercept_)\n",
    "print('Coefficients:', model.coef_)"
   ]
  },
  {
   "cell_type": "code",
   "execution_count": 51,
   "id": "46f505cd",
   "metadata": {},
   "outputs": [
    {
     "name": "stdout",
     "output_type": "stream",
     "text": [
      "                                    OLS Regression Results                                   \n",
      "=============================================================================================\n",
      "Dep. Variable:     inflation_inflation_gdp_deflation   R-squared:                       0.004\n",
      "Model:                                           OLS   Adj. R-squared:                 -0.031\n",
      "Method:                                Least Squares   F-statistic:                    0.1152\n",
      "Date:                               Fri, 26 Aug 2022   Prob (F-statistic):              0.737\n",
      "Time:                                       00:50:01   Log-Likelihood:                -127.65\n",
      "No. Observations:                                 30   AIC:                             259.3\n",
      "Df Residuals:                                     28   BIC:                             262.1\n",
      "Df Model:                                          1                                         \n",
      "Covariance Type:                           nonrobust                                         \n",
      "=====================================================================================\n",
      "                        coef    std err          t      P>|t|      [0.025      0.975]\n",
      "-------------------------------------------------------------------------------------\n",
      "const                15.9119      3.402      4.677      0.000       8.943      22.881\n",
      "normalized_EDPGDP     6.3236     18.635      0.339      0.737     -31.848      44.495\n",
      "==============================================================================\n",
      "Omnibus:                       46.769   Durbin-Watson:                   2.038\n",
      "Prob(Omnibus):                  0.000   Jarque-Bera (JB):              200.401\n",
      "Skew:                           3.259   Prob(JB):                     3.04e-44\n",
      "Kurtosis:                      13.856   Cond. No.                         5.80\n",
      "==============================================================================\n",
      "\n",
      "Notes:\n",
      "[1] Standard Errors assume that the covariance matrix of the errors is correctly specified.\n"
     ]
    }
   ],
   "source": [
    "X = hti_df[['normalized_EDPGDP']]\n",
    "X = sm.add_constant(X) # adding a constant\n",
    "\n",
    "olsmod = sm.OLS(hti_df['inflation_inflation_gdp_deflation'], X).fit()\n",
    "print(olsmod.summary())"
   ]
  },
  {
   "cell_type": "code",
   "execution_count": 52,
   "id": "7aa11b6c",
   "metadata": {},
   "outputs": [
    {
     "name": "stdout",
     "output_type": "stream",
     "text": [
      "const                0.000067\n",
      "normalized_EDPGDP    0.736880\n",
      "dtype: float64\n"
     ]
    }
   ],
   "source": [
    "print(olsmod.pvalues)"
   ]
  },
  {
   "cell_type": "markdown",
   "id": "dba44c0e",
   "metadata": {},
   "source": [
    "## Encoding"
   ]
  },
  {
   "cell_type": "code",
   "execution_count": 53,
   "id": "48d14ae7",
   "metadata": {},
   "outputs": [
    {
     "data": {
      "text/html": [
       "<div>\n",
       "<style scoped>\n",
       "    .dataframe tbody tr th:only-of-type {\n",
       "        vertical-align: middle;\n",
       "    }\n",
       "\n",
       "    .dataframe tbody tr th {\n",
       "        vertical-align: top;\n",
       "    }\n",
       "\n",
       "    .dataframe thead th {\n",
       "        text-align: right;\n",
       "    }\n",
       "</style>\n",
       "<table border=\"1\" class=\"dataframe\">\n",
       "  <thead>\n",
       "    <tr style=\"text-align: right;\">\n",
       "      <th></th>\n",
       "      <th>agriculture_value_added_constants</th>\n",
       "      <th>agriculture_value_added_percentage_gdp</th>\n",
       "      <th>annual_co2_emissions_tons</th>\n",
       "      <th>inflation_inflation_gdp_deflation</th>\n",
       "      <th>economic_damages_as_a_share_of_gdp</th>\n",
       "      <th>people_affected_per_100k</th>\n",
       "      <th>number_of_deaths</th>\n",
       "      <th>population_population_growth_annual_percentage</th>\n",
       "      <th>population_population_total</th>\n",
       "      <th>temperature_change_temp_change_celsius</th>\n",
       "      <th>normalized_ND_2</th>\n",
       "      <th>normalized_EDPGDP</th>\n",
       "    </tr>\n",
       "    <tr>\n",
       "      <th>year</th>\n",
       "      <th></th>\n",
       "      <th></th>\n",
       "      <th></th>\n",
       "      <th></th>\n",
       "      <th></th>\n",
       "      <th></th>\n",
       "      <th></th>\n",
       "      <th></th>\n",
       "      <th></th>\n",
       "      <th></th>\n",
       "      <th></th>\n",
       "      <th></th>\n",
       "    </tr>\n",
       "  </thead>\n",
       "  <tbody>\n",
       "    <tr>\n",
       "      <th>1988</th>\n",
       "      <td>2.940172e+09</td>\n",
       "      <td>31.110649</td>\n",
       "      <td>1007669</td>\n",
       "      <td>27.427622</td>\n",
       "      <td>0.873073</td>\n",
       "      <td>12928.381178</td>\n",
       "      <td>81.0</td>\n",
       "      <td>2.085452</td>\n",
       "      <td>6758222</td>\n",
       "      <td>0.890</td>\n",
       "      <td>0.014404</td>\n",
       "      <td>0.209982</td>\n",
       "    </tr>\n",
       "    <tr>\n",
       "      <th>1989</th>\n",
       "      <td>2.901671e+09</td>\n",
       "      <td>30.592998</td>\n",
       "      <td>1023120</td>\n",
       "      <td>7.820710</td>\n",
       "      <td>0.000000</td>\n",
       "      <td>361.409104</td>\n",
       "      <td>0.0</td>\n",
       "      <td>2.043616</td>\n",
       "      <td>6897755</td>\n",
       "      <td>0.508</td>\n",
       "      <td>0.000000</td>\n",
       "      <td>0.000000</td>\n",
       "    </tr>\n",
       "    <tr>\n",
       "      <th>1990</th>\n",
       "      <td>2.780139e+09</td>\n",
       "      <td>29.736751</td>\n",
       "      <td>994997</td>\n",
       "      <td>11.995750</td>\n",
       "      <td>0.000000</td>\n",
       "      <td>0.000000</td>\n",
       "      <td>0.0</td>\n",
       "      <td>2.011597</td>\n",
       "      <td>7037915</td>\n",
       "      <td>0.876</td>\n",
       "      <td>0.000000</td>\n",
       "      <td>0.000000</td>\n",
       "    </tr>\n",
       "    <tr>\n",
       "      <th>1992</th>\n",
       "      <td>2.668984e+09</td>\n",
       "      <td>34.120608</td>\n",
       "      <td>888522</td>\n",
       "      <td>20.908166</td>\n",
       "      <td>0.000000</td>\n",
       "      <td>13663.068725</td>\n",
       "      <td>0.0</td>\n",
       "      <td>1.943488</td>\n",
       "      <td>7319491</td>\n",
       "      <td>0.492</td>\n",
       "      <td>0.000000</td>\n",
       "      <td>0.000000</td>\n",
       "    </tr>\n",
       "    <tr>\n",
       "      <th>1993</th>\n",
       "      <td>2.710842e+09</td>\n",
       "      <td>30.847043</td>\n",
       "      <td>684199</td>\n",
       "      <td>18.336642</td>\n",
       "      <td>0.000000</td>\n",
       "      <td>67.015145</td>\n",
       "      <td>13.0</td>\n",
       "      <td>1.910631</td>\n",
       "      <td>7460684</td>\n",
       "      <td>0.409</td>\n",
       "      <td>0.002312</td>\n",
       "      <td>0.000000</td>\n",
       "    </tr>\n",
       "  </tbody>\n",
       "</table>\n",
       "</div>"
      ],
      "text/plain": [
       "      agriculture_value_added_constants  \\\n",
       "year                                      \n",
       "1988                       2.940172e+09   \n",
       "1989                       2.901671e+09   \n",
       "1990                       2.780139e+09   \n",
       "1992                       2.668984e+09   \n",
       "1993                       2.710842e+09   \n",
       "\n",
       "      agriculture_value_added_percentage_gdp  annual_co2_emissions_tons  \\\n",
       "year                                                                      \n",
       "1988                               31.110649                    1007669   \n",
       "1989                               30.592998                    1023120   \n",
       "1990                               29.736751                     994997   \n",
       "1992                               34.120608                     888522   \n",
       "1993                               30.847043                     684199   \n",
       "\n",
       "      inflation_inflation_gdp_deflation  economic_damages_as_a_share_of_gdp  \\\n",
       "year                                                                          \n",
       "1988                          27.427622                            0.873073   \n",
       "1989                           7.820710                            0.000000   \n",
       "1990                          11.995750                            0.000000   \n",
       "1992                          20.908166                            0.000000   \n",
       "1993                          18.336642                            0.000000   \n",
       "\n",
       "      people_affected_per_100k  number_of_deaths  \\\n",
       "year                                               \n",
       "1988              12928.381178              81.0   \n",
       "1989                361.409104               0.0   \n",
       "1990                  0.000000               0.0   \n",
       "1992              13663.068725               0.0   \n",
       "1993                 67.015145              13.0   \n",
       "\n",
       "      population_population_growth_annual_percentage  \\\n",
       "year                                                   \n",
       "1988                                        2.085452   \n",
       "1989                                        2.043616   \n",
       "1990                                        2.011597   \n",
       "1992                                        1.943488   \n",
       "1993                                        1.910631   \n",
       "\n",
       "      population_population_total  temperature_change_temp_change_celsius  \\\n",
       "year                                                                        \n",
       "1988                      6758222                                   0.890   \n",
       "1989                      6897755                                   0.508   \n",
       "1990                      7037915                                   0.876   \n",
       "1992                      7319491                                   0.492   \n",
       "1993                      7460684                                   0.409   \n",
       "\n",
       "      normalized_ND_2  normalized_EDPGDP  \n",
       "year                                      \n",
       "1988         0.014404           0.209982  \n",
       "1989         0.000000           0.000000  \n",
       "1990         0.000000           0.000000  \n",
       "1992         0.000000           0.000000  \n",
       "1993         0.002312           0.000000  "
      ]
     },
     "execution_count": 53,
     "metadata": {},
     "output_type": "execute_result"
    }
   ],
   "source": [
    "hti_df.head()"
   ]
  },
  {
   "cell_type": "code",
   "execution_count": 54,
   "id": "3594a9fb",
   "metadata": {},
   "outputs": [
    {
     "data": {
      "text/html": [
       "<div>\n",
       "<style scoped>\n",
       "    .dataframe tbody tr th:only-of-type {\n",
       "        vertical-align: middle;\n",
       "    }\n",
       "\n",
       "    .dataframe tbody tr th {\n",
       "        vertical-align: top;\n",
       "    }\n",
       "\n",
       "    .dataframe thead th {\n",
       "        text-align: right;\n",
       "    }\n",
       "</style>\n",
       "<table border=\"1\" class=\"dataframe\">\n",
       "  <thead>\n",
       "    <tr style=\"text-align: right;\">\n",
       "      <th></th>\n",
       "      <th>agriculture_value_added_constants</th>\n",
       "      <th>agriculture_value_added_percentage_gdp</th>\n",
       "      <th>annual_co2_emissions_tons</th>\n",
       "      <th>inflation_inflation_gdp_deflation</th>\n",
       "      <th>economic_damages_as_a_share_of_gdp</th>\n",
       "      <th>people_affected_per_100k</th>\n",
       "      <th>number_of_deaths</th>\n",
       "      <th>population_population_growth_annual_percentage</th>\n",
       "      <th>population_population_total</th>\n",
       "      <th>temperature_change_temp_change_celsius</th>\n",
       "    </tr>\n",
       "    <tr>\n",
       "      <th>year</th>\n",
       "      <th></th>\n",
       "      <th></th>\n",
       "      <th></th>\n",
       "      <th></th>\n",
       "      <th></th>\n",
       "      <th></th>\n",
       "      <th></th>\n",
       "      <th></th>\n",
       "      <th></th>\n",
       "      <th></th>\n",
       "    </tr>\n",
       "  </thead>\n",
       "  <tbody>\n",
       "    <tr>\n",
       "      <th>1988</th>\n",
       "      <td>2.940172e+09</td>\n",
       "      <td>31.110649</td>\n",
       "      <td>1007669</td>\n",
       "      <td>27.427622</td>\n",
       "      <td>0.873073</td>\n",
       "      <td>12928.381178</td>\n",
       "      <td>81.0</td>\n",
       "      <td>2.085452</td>\n",
       "      <td>6758222</td>\n",
       "      <td>0.890</td>\n",
       "    </tr>\n",
       "    <tr>\n",
       "      <th>1989</th>\n",
       "      <td>2.901671e+09</td>\n",
       "      <td>30.592998</td>\n",
       "      <td>1023120</td>\n",
       "      <td>7.820710</td>\n",
       "      <td>0.000000</td>\n",
       "      <td>361.409104</td>\n",
       "      <td>0.0</td>\n",
       "      <td>2.043616</td>\n",
       "      <td>6897755</td>\n",
       "      <td>0.508</td>\n",
       "    </tr>\n",
       "    <tr>\n",
       "      <th>1990</th>\n",
       "      <td>2.780139e+09</td>\n",
       "      <td>29.736751</td>\n",
       "      <td>994997</td>\n",
       "      <td>11.995750</td>\n",
       "      <td>0.000000</td>\n",
       "      <td>0.000000</td>\n",
       "      <td>0.0</td>\n",
       "      <td>2.011597</td>\n",
       "      <td>7037915</td>\n",
       "      <td>0.876</td>\n",
       "    </tr>\n",
       "    <tr>\n",
       "      <th>1992</th>\n",
       "      <td>2.668984e+09</td>\n",
       "      <td>34.120608</td>\n",
       "      <td>888522</td>\n",
       "      <td>20.908166</td>\n",
       "      <td>0.000000</td>\n",
       "      <td>13663.068725</td>\n",
       "      <td>0.0</td>\n",
       "      <td>1.943488</td>\n",
       "      <td>7319491</td>\n",
       "      <td>0.492</td>\n",
       "    </tr>\n",
       "    <tr>\n",
       "      <th>1993</th>\n",
       "      <td>2.710842e+09</td>\n",
       "      <td>30.847043</td>\n",
       "      <td>684199</td>\n",
       "      <td>18.336642</td>\n",
       "      <td>0.000000</td>\n",
       "      <td>67.015145</td>\n",
       "      <td>13.0</td>\n",
       "      <td>1.910631</td>\n",
       "      <td>7460684</td>\n",
       "      <td>0.409</td>\n",
       "    </tr>\n",
       "  </tbody>\n",
       "</table>\n",
       "</div>"
      ],
      "text/plain": [
       "      agriculture_value_added_constants  \\\n",
       "year                                      \n",
       "1988                       2.940172e+09   \n",
       "1989                       2.901671e+09   \n",
       "1990                       2.780139e+09   \n",
       "1992                       2.668984e+09   \n",
       "1993                       2.710842e+09   \n",
       "\n",
       "      agriculture_value_added_percentage_gdp  annual_co2_emissions_tons  \\\n",
       "year                                                                      \n",
       "1988                               31.110649                    1007669   \n",
       "1989                               30.592998                    1023120   \n",
       "1990                               29.736751                     994997   \n",
       "1992                               34.120608                     888522   \n",
       "1993                               30.847043                     684199   \n",
       "\n",
       "      inflation_inflation_gdp_deflation  economic_damages_as_a_share_of_gdp  \\\n",
       "year                                                                          \n",
       "1988                          27.427622                            0.873073   \n",
       "1989                           7.820710                            0.000000   \n",
       "1990                          11.995750                            0.000000   \n",
       "1992                          20.908166                            0.000000   \n",
       "1993                          18.336642                            0.000000   \n",
       "\n",
       "      people_affected_per_100k  number_of_deaths  \\\n",
       "year                                               \n",
       "1988              12928.381178              81.0   \n",
       "1989                361.409104               0.0   \n",
       "1990                  0.000000               0.0   \n",
       "1992              13663.068725               0.0   \n",
       "1993                 67.015145              13.0   \n",
       "\n",
       "      population_population_growth_annual_percentage  \\\n",
       "year                                                   \n",
       "1988                                        2.085452   \n",
       "1989                                        2.043616   \n",
       "1990                                        2.011597   \n",
       "1992                                        1.943488   \n",
       "1993                                        1.910631   \n",
       "\n",
       "      population_population_total  temperature_change_temp_change_celsius  \n",
       "year                                                                       \n",
       "1988                      6758222                                   0.890  \n",
       "1989                      6897755                                   0.508  \n",
       "1990                      7037915                                   0.876  \n",
       "1992                      7319491                                   0.492  \n",
       "1993                      7460684                                   0.409  "
      ]
     },
     "execution_count": 54,
     "metadata": {},
     "output_type": "execute_result"
    }
   ],
   "source": [
    "hti_df = hti_df.drop(['normalized_ND_2','normalized_EDPGDP'],axis=1)\n",
    "hti_df.head()"
   ]
  },
  {
   "cell_type": "code",
   "execution_count": 55,
   "id": "6290a120",
   "metadata": {},
   "outputs": [
    {
     "name": "stdout",
     "output_type": "stream",
     "text": [
      "Scaled Dataset Using StandardScaler\n"
     ]
    },
    {
     "data": {
      "text/html": [
       "<div>\n",
       "<style scoped>\n",
       "    .dataframe tbody tr th:only-of-type {\n",
       "        vertical-align: middle;\n",
       "    }\n",
       "\n",
       "    .dataframe tbody tr th {\n",
       "        vertical-align: top;\n",
       "    }\n",
       "\n",
       "    .dataframe thead th {\n",
       "        text-align: right;\n",
       "    }\n",
       "</style>\n",
       "<table border=\"1\" class=\"dataframe\">\n",
       "  <thead>\n",
       "    <tr style=\"text-align: right;\">\n",
       "      <th></th>\n",
       "      <th>agriculture_value_added_constants</th>\n",
       "      <th>agriculture_value_added_percentage_gdp</th>\n",
       "      <th>annual_co2_emissions_tons</th>\n",
       "      <th>inflation_inflation_gdp_deflation</th>\n",
       "      <th>economic_damages_as_a_share_of_gdp</th>\n",
       "      <th>people_affected_per_100k</th>\n",
       "      <th>number_of_deaths</th>\n",
       "      <th>population_population_growth_annual_percentage</th>\n",
       "      <th>population_population_total</th>\n",
       "      <th>temperature_change_temp_change_celsius</th>\n",
       "    </tr>\n",
       "  </thead>\n",
       "  <tbody>\n",
       "    <tr>\n",
       "      <th>0</th>\n",
       "      <td>2.081096</td>\n",
       "      <td>1.796427</td>\n",
       "      <td>-1.051144</td>\n",
       "      <td>0.652415</td>\n",
       "      <td>0.875091</td>\n",
       "      <td>0.844849</td>\n",
       "      <td>-0.224195</td>\n",
       "      <td>1.949538</td>\n",
       "      <td>-1.776146</td>\n",
       "      <td>-0.362913</td>\n",
       "    </tr>\n",
       "    <tr>\n",
       "      <th>1</th>\n",
       "      <td>1.815419</td>\n",
       "      <td>1.702355</td>\n",
       "      <td>-1.032130</td>\n",
       "      <td>-0.495395</td>\n",
       "      <td>-0.339506</td>\n",
       "      <td>-0.374431</td>\n",
       "      <td>-0.306714</td>\n",
       "      <td>1.772296</td>\n",
       "      <td>-1.675020</td>\n",
       "      <td>-1.395688</td>\n",
       "    </tr>\n",
       "    <tr>\n",
       "      <th>2</th>\n",
       "      <td>0.976782</td>\n",
       "      <td>1.546750</td>\n",
       "      <td>-1.066737</td>\n",
       "      <td>-0.250984</td>\n",
       "      <td>-0.339506</td>\n",
       "      <td>-0.409495</td>\n",
       "      <td>-0.306714</td>\n",
       "      <td>1.636642</td>\n",
       "      <td>-1.573440</td>\n",
       "      <td>-0.400764</td>\n",
       "    </tr>\n",
       "    <tr>\n",
       "      <th>3</th>\n",
       "      <td>0.209755</td>\n",
       "      <td>2.343424</td>\n",
       "      <td>-1.197762</td>\n",
       "      <td>0.270759</td>\n",
       "      <td>-0.339506</td>\n",
       "      <td>0.916130</td>\n",
       "      <td>-0.306714</td>\n",
       "      <td>1.348092</td>\n",
       "      <td>-1.369369</td>\n",
       "      <td>-1.438946</td>\n",
       "    </tr>\n",
       "    <tr>\n",
       "      <th>4</th>\n",
       "      <td>0.498600</td>\n",
       "      <td>1.748522</td>\n",
       "      <td>-1.449195</td>\n",
       "      <td>0.120219</td>\n",
       "      <td>-0.339506</td>\n",
       "      <td>-0.402993</td>\n",
       "      <td>-0.293470</td>\n",
       "      <td>1.208889</td>\n",
       "      <td>-1.267041</td>\n",
       "      <td>-1.663345</td>\n",
       "    </tr>\n",
       "  </tbody>\n",
       "</table>\n",
       "</div>"
      ],
      "text/plain": [
       "   agriculture_value_added_constants  agriculture_value_added_percentage_gdp  \\\n",
       "0                           2.081096                                1.796427   \n",
       "1                           1.815419                                1.702355   \n",
       "2                           0.976782                                1.546750   \n",
       "3                           0.209755                                2.343424   \n",
       "4                           0.498600                                1.748522   \n",
       "\n",
       "   annual_co2_emissions_tons  inflation_inflation_gdp_deflation  \\\n",
       "0                  -1.051144                           0.652415   \n",
       "1                  -1.032130                          -0.495395   \n",
       "2                  -1.066737                          -0.250984   \n",
       "3                  -1.197762                           0.270759   \n",
       "4                  -1.449195                           0.120219   \n",
       "\n",
       "   economic_damages_as_a_share_of_gdp  people_affected_per_100k  \\\n",
       "0                            0.875091                  0.844849   \n",
       "1                           -0.339506                 -0.374431   \n",
       "2                           -0.339506                 -0.409495   \n",
       "3                           -0.339506                  0.916130   \n",
       "4                           -0.339506                 -0.402993   \n",
       "\n",
       "   number_of_deaths  population_population_growth_annual_percentage  \\\n",
       "0         -0.224195                                        1.949538   \n",
       "1         -0.306714                                        1.772296   \n",
       "2         -0.306714                                        1.636642   \n",
       "3         -0.306714                                        1.348092   \n",
       "4         -0.293470                                        1.208889   \n",
       "\n",
       "   population_population_total  temperature_change_temp_change_celsius  \n",
       "0                    -1.776146                               -0.362913  \n",
       "1                    -1.675020                               -1.395688  \n",
       "2                    -1.573440                               -0.400764  \n",
       "3                    -1.369369                               -1.438946  \n",
       "4                    -1.267041                               -1.663345  "
      ]
     },
     "execution_count": 55,
     "metadata": {},
     "output_type": "execute_result"
    }
   ],
   "source": [
    "from sklearn.preprocessing import StandardScaler\n",
    " \n",
    "std_scaler = StandardScaler()\n",
    " \n",
    "df_scaled = std_scaler.fit_transform(hti_df.to_numpy())\n",
    "df_scaled = pd.DataFrame(df_scaled, columns=[\n",
    " 'agriculture_value_added_constants',\n",
    " 'agriculture_value_added_percentage_gdp',\n",
    " 'annual_co2_emissions_tons',\n",
    " 'inflation_inflation_gdp_deflation',\n",
    " 'economic_damages_as_a_share_of_gdp',\n",
    " 'people_affected_per_100k',\n",
    " 'number_of_deaths',\n",
    " 'population_population_growth_annual_percentage',\n",
    " 'population_population_total',\n",
    " 'temperature_change_temp_change_celsius',\n",
    "])\n",
    " \n",
    "print(\"Scaled Dataset Using StandardScaler\")\n",
    "df_scaled.head()"
   ]
  },
  {
   "cell_type": "code",
   "execution_count": 56,
   "id": "dfacf95d",
   "metadata": {},
   "outputs": [
    {
     "name": "stdout",
     "output_type": "stream",
     "text": [
      "<class 'pandas.core.frame.DataFrame'>\n",
      "RangeIndex: 30 entries, 0 to 29\n",
      "Data columns (total 10 columns):\n",
      " #   Column                                          Non-Null Count  Dtype  \n",
      "---  ------                                          --------------  -----  \n",
      " 0   agriculture_value_added_constants               30 non-null     float64\n",
      " 1   agriculture_value_added_percentage_gdp          30 non-null     float64\n",
      " 2   annual_co2_emissions_tons                       30 non-null     float64\n",
      " 3   inflation_inflation_gdp_deflation               30 non-null     float64\n",
      " 4   economic_damages_as_a_share_of_gdp              30 non-null     float64\n",
      " 5   people_affected_per_100k                        30 non-null     float64\n",
      " 6   number_of_deaths                                30 non-null     float64\n",
      " 7   population_population_growth_annual_percentage  30 non-null     float64\n",
      " 8   population_population_total                     30 non-null     float64\n",
      " 9   temperature_change_temp_change_celsius          30 non-null     float64\n",
      "dtypes: float64(10)\n",
      "memory usage: 2.5 KB\n"
     ]
    }
   ],
   "source": [
    "df_scaled.info()"
   ]
  },
  {
   "cell_type": "markdown",
   "id": "738f0235",
   "metadata": {},
   "source": [
    "### Dependent Variable"
   ]
  },
  {
   "cell_type": "markdown",
   "id": "cb59c064",
   "metadata": {},
   "source": [
    "La variable \"economic_damages_as_a_share_of_gdp\" tiene una distribución asimétrica con una cola positiva. Este tipo de distribución suele visualizarse mejor tras aplicar el logarítmica o la raíz cuadrada."
   ]
  },
  {
   "cell_type": "code",
   "execution_count": 57,
   "id": "e7a26bec",
   "metadata": {},
   "outputs": [
    {
     "name": "stderr",
     "output_type": "stream",
     "text": [
      "C:\\Users\\Laura\\anaconda3\\envs\\mlenv\\lib\\site-packages\\seaborn\\distributions.py:2619: FutureWarning: `distplot` is a deprecated function and will be removed in a future version. Please adapt your code to use either `displot` (a figure-level function with similar flexibility) or `kdeplot` (an axes-level function for kernel density plots).\n",
      "  warnings.warn(msg, FutureWarning)\n",
      "C:\\Users\\Laura\\anaconda3\\envs\\mlenv\\lib\\site-packages\\seaborn\\distributions.py:2103: FutureWarning: The `axis` variable is no longer used and will be removed. Instead, assign variables directly to `x` or `y`.\n",
      "  warnings.warn(msg, FutureWarning)\n",
      "C:\\Users\\Laura\\anaconda3\\envs\\mlenv\\lib\\site-packages\\seaborn\\distributions.py:2619: FutureWarning: `distplot` is a deprecated function and will be removed in a future version. Please adapt your code to use either `displot` (a figure-level function with similar flexibility) or `kdeplot` (an axes-level function for kernel density plots).\n",
      "  warnings.warn(msg, FutureWarning)\n",
      "C:\\Users\\Laura\\anaconda3\\envs\\mlenv\\lib\\site-packages\\seaborn\\distributions.py:2103: FutureWarning: The `axis` variable is no longer used and will be removed. Instead, assign variables directly to `x` or `y`.\n",
      "  warnings.warn(msg, FutureWarning)\n",
      "C:\\Users\\Laura\\anaconda3\\envs\\mlenv\\lib\\site-packages\\seaborn\\distributions.py:2619: FutureWarning: `distplot` is a deprecated function and will be removed in a future version. Please adapt your code to use either `displot` (a figure-level function with similar flexibility) or `kdeplot` (an axes-level function for kernel density plots).\n",
      "  warnings.warn(msg, FutureWarning)\n",
      "C:\\Users\\Laura\\anaconda3\\envs\\mlenv\\lib\\site-packages\\seaborn\\distributions.py:2103: FutureWarning: The `axis` variable is no longer used and will be removed. Instead, assign variables directly to `x` or `y`.\n",
      "  warnings.warn(msg, FutureWarning)\n"
     ]
    },
    {
     "data": {
      "image/png": "[encoded data removed]",
      "text/plain": [
       "<Figure size 432x432 with 3 Axes>"
      ]
     },
     "metadata": {
      "needs_background": "light"
     },
     "output_type": "display_data"
    }
   ],
   "source": [
    "fig, axes = plt.subplots(nrows=3, ncols=1, figsize=(6, 6))\n",
    "sb.distplot(\n",
    "    df_scaled.economic_damages_as_a_share_of_gdp,\n",
    "    hist    = False,\n",
    "    rug     = True,\n",
    "    color   = \"blue\",\n",
    "    kde_kws = {'shade': True, 'linewidth': 1},\n",
    "    ax      = axes[0]\n",
    ")\n",
    "axes[0].set_title(\"Distribución original\", fontsize = 'medium')\n",
    "axes[0].set_xlabel('precio', fontsize='small') \n",
    "axes[0].tick_params(labelsize = 6)\n",
    "\n",
    "sb.distplot(\n",
    "    np.sqrt(df_scaled.economic_damages_as_a_share_of_gdp),\n",
    "    hist    = False,\n",
    "    rug     = True,\n",
    "    color   = \"blue\",\n",
    "    kde_kws = {'shade': True, 'linewidth': 1},\n",
    "    ax      = axes[1]\n",
    ")\n",
    "axes[1].set_title(\"Transformación raíz cuadrada\", fontsize = 'medium')\n",
    "axes[1].set_xlabel('sqrt(economic_damages_as_a_share_of_gdp)', fontsize='small') \n",
    "axes[1].tick_params(labelsize = 6)\n",
    "\n",
    "sb.distplot(\n",
    "    np.log(df_scaled.economic_damages_as_a_share_of_gdp),\n",
    "    hist    = False,\n",
    "    rug     = True,\n",
    "    color   = \"blue\",\n",
    "    kde_kws = {'shade': True, 'linewidth': 1},\n",
    "    ax      = axes[2]\n",
    ")\n",
    "axes[2].set_title(\"Transformación logarítmica\", fontsize = 'medium')\n",
    "axes[2].set_xlabel('log(economic_damages_as_a_share_of_gdp)', fontsize='small') \n",
    "axes[2].tick_params(labelsize = 6)\n",
    "\n",
    "fig.tight_layout()"
   ]
  },
  {
   "cell_type": "code",
   "execution_count": 58,
   "id": "4054b5b6",
   "metadata": {},
   "outputs": [
    {
     "data": {
      "text/html": [
       "<div>\n",
       "<style scoped>\n",
       "    .dataframe tbody tr th:only-of-type {\n",
       "        vertical-align: middle;\n",
       "    }\n",
       "\n",
       "    .dataframe tbody tr th {\n",
       "        vertical-align: top;\n",
       "    }\n",
       "\n",
       "    .dataframe thead th {\n",
       "        text-align: right;\n",
       "    }\n",
       "</style>\n",
       "<table border=\"1\" class=\"dataframe\">\n",
       "  <thead>\n",
       "    <tr style=\"text-align: right;\">\n",
       "      <th></th>\n",
       "      <th>sumsquare_error</th>\n",
       "      <th>aic</th>\n",
       "      <th>bic</th>\n",
       "      <th>kl_div</th>\n",
       "      <th>ks_statistic</th>\n",
       "      <th>ks_pvalue</th>\n",
       "    </tr>\n",
       "  </thead>\n",
       "  <tbody>\n",
       "    <tr>\n",
       "      <th>gamma</th>\n",
       "      <td>130.206926</td>\n",
       "      <td>620.679030</td>\n",
       "      <td>54.241418</td>\n",
       "      <td>inf</td>\n",
       "      <td>0.633309</td>\n",
       "      <td>3.388442e-12</td>\n",
       "    </tr>\n",
       "    <tr>\n",
       "      <th>powerlaw</th>\n",
       "      <td>155.460779</td>\n",
       "      <td>444.642454</td>\n",
       "      <td>59.559475</td>\n",
       "      <td>inf</td>\n",
       "      <td>0.646175</td>\n",
       "      <td>9.573017e-13</td>\n",
       "    </tr>\n",
       "    <tr>\n",
       "      <th>expon</th>\n",
       "      <td>157.383265</td>\n",
       "      <td>1345.098529</td>\n",
       "      <td>56.526994</td>\n",
       "      <td>inf</td>\n",
       "      <td>0.750032</td>\n",
       "      <td>5.688774e-18</td>\n",
       "    </tr>\n",
       "    <tr>\n",
       "      <th>chi2</th>\n",
       "      <td>167.174785</td>\n",
       "      <td>514.033853</td>\n",
       "      <td>61.738867</td>\n",
       "      <td>inf</td>\n",
       "      <td>0.739334</td>\n",
       "      <td>2.346506e-17</td>\n",
       "    </tr>\n",
       "    <tr>\n",
       "      <th>beta</th>\n",
       "      <td>175.280315</td>\n",
       "      <td>3742.419612</td>\n",
       "      <td>66.560463</td>\n",
       "      <td>inf</td>\n",
       "      <td>0.424743</td>\n",
       "      <td>1.995412e-05</td>\n",
       "    </tr>\n",
       "    <tr>\n",
       "      <th>exponpow</th>\n",
       "      <td>189.514470</td>\n",
       "      <td>913.197241</td>\n",
       "      <td>65.501632</td>\n",
       "      <td>inf</td>\n",
       "      <td>0.440259</td>\n",
       "      <td>8.201646e-06</td>\n",
       "    </tr>\n",
       "    <tr>\n",
       "      <th>logistic</th>\n",
       "      <td>194.033632</td>\n",
       "      <td>1419.490777</td>\n",
       "      <td>62.807418</td>\n",
       "      <td>inf</td>\n",
       "      <td>0.394323</td>\n",
       "      <td>1.022850e-04</td>\n",
       "    </tr>\n",
       "    <tr>\n",
       "      <th>lognorm</th>\n",
       "      <td>198.061444</td>\n",
       "      <td>995.650715</td>\n",
       "      <td>66.824990</td>\n",
       "      <td>inf</td>\n",
       "      <td>0.531476</td>\n",
       "      <td>1.945272e-08</td>\n",
       "    </tr>\n",
       "    <tr>\n",
       "      <th>norm</th>\n",
       "      <td>203.237837</td>\n",
       "      <td>951.418239</td>\n",
       "      <td>64.197780</td>\n",
       "      <td>inf</td>\n",
       "      <td>0.397405</td>\n",
       "      <td>8.723354e-05</td>\n",
       "    </tr>\n",
       "    <tr>\n",
       "      <th>cauchy</th>\n",
       "      <td>213.091612</td>\n",
       "      <td>7872.396153</td>\n",
       "      <td>65.618139</td>\n",
       "      <td>inf</td>\n",
       "      <td>0.500000</td>\n",
       "      <td>1.846731e-07</td>\n",
       "    </tr>\n",
       "  </tbody>\n",
       "</table>\n",
       "</div>"
      ],
      "text/plain": [
       "          sumsquare_error          aic        bic  kl_div  ks_statistic  \\\n",
       "gamma          130.206926   620.679030  54.241418     inf      0.633309   \n",
       "powerlaw       155.460779   444.642454  59.559475     inf      0.646175   \n",
       "expon          157.383265  1345.098529  56.526994     inf      0.750032   \n",
       "chi2           167.174785   514.033853  61.738867     inf      0.739334   \n",
       "beta           175.280315  3742.419612  66.560463     inf      0.424743   \n",
       "exponpow       189.514470   913.197241  65.501632     inf      0.440259   \n",
       "logistic       194.033632  1419.490777  62.807418     inf      0.394323   \n",
       "lognorm        198.061444   995.650715  66.824990     inf      0.531476   \n",
       "norm           203.237837   951.418239  64.197780     inf      0.397405   \n",
       "cauchy         213.091612  7872.396153  65.618139     inf      0.500000   \n",
       "\n",
       "             ks_pvalue  \n",
       "gamma     3.388442e-12  \n",
       "powerlaw  9.573017e-13  \n",
       "expon     5.688774e-18  \n",
       "chi2      2.346506e-17  \n",
       "beta      1.995412e-05  \n",
       "exponpow  8.201646e-06  \n",
       "logistic  1.022850e-04  \n",
       "lognorm   1.945272e-08  \n",
       "norm      8.723354e-05  \n",
       "cauchy    1.846731e-07  "
      ]
     },
     "execution_count": 58,
     "metadata": {},
     "output_type": "execute_result"
    }
   ],
   "source": [
    "from fitter import Fitter\n",
    "distribuciones = ['cauchy', 'chi2', 'expon',  'exponpow', 'gamma',\n",
    "                  'norm', 'powerlaw', 'beta', 'logistic', 'lognorm']\n",
    "\n",
    "fitter = Fitter(df_scaled.economic_damages_as_a_share_of_gdp, distributions=distribuciones)\n",
    "fitter.fit()\n",
    "fitter.summary(Nbest=10, plot=False)"
   ]
  },
  {
   "cell_type": "code",
   "execution_count": 59,
   "id": "7ecabdeb",
   "metadata": {},
   "outputs": [
    {
     "data": {
      "image/png": "[encoded data removed]",
      "text/plain": [
       "<Figure size 648x360 with 8 Axes>"
      ]
     },
     "metadata": {
      "needs_background": "light"
     },
     "output_type": "display_data"
    }
   ],
   "source": [
    "# Gráfico de distribución para cada variable numérica\n",
    "# ==============================================================================\n",
    "# Ajustar número de subplots en función del número de columnas\n",
    "fig, axes = plt.subplots(nrows=3, ncols=3, figsize=(9, 5))\n",
    "axes = axes.flat\n",
    "columnas_numeric = df_scaled.select_dtypes(include=['float64', 'int']).columns\n",
    "columnas_numeric = columnas_numeric.drop('economic_damages_as_a_share_of_gdp')\n",
    "\n",
    "for i, colum in enumerate(columnas_numeric):\n",
    "    sb.regplot(\n",
    "        x           = df_scaled[colum],\n",
    "        y           = df_scaled['economic_damages_as_a_share_of_gdp'],\n",
    "        color       = \"gray\",\n",
    "        marker      = '.',\n",
    "        scatter_kws = {\"alpha\":0.4},\n",
    "        line_kws    = {\"color\":\"r\",\"alpha\":0.7},\n",
    "        ax          = axes[i]\n",
    "    )\n",
    "    axes[i].set_title(f\"(economic_damages_as_a_share_of_gdp) vs {colum}\", fontsize = 7, fontweight = \"bold\")\n",
    "    #axes[i].ticklabel_format(style='sci', scilimits=(-4,4), axis='both')\n",
    "    axes[i].yaxis.set_major_formatter(ticker.EngFormatter())\n",
    "    axes[i].xaxis.set_major_formatter(ticker.EngFormatter())\n",
    "    axes[i].tick_params(labelsize = 6)\n",
    "    axes[i].set_xlabel(\"\")\n",
    "    axes[i].set_ylabel(\"\")\n",
    "\n",
    "# Se eliminan los axes vacíos\n",
    "for i in [8]:\n",
    "    fig.delaxes(axes[i])\n",
    "    \n",
    "fig.tight_layout()\n",
    "plt.subplots_adjust(top=0.9)\n",
    "fig.suptitle('Correlación con economic_damages_as_a_share_of_gdp', fontsize = 10, fontweight = \"bold\");"
   ]
  },
  {
   "cell_type": "code",
   "execution_count": null,
   "id": "9d91bdd1",
   "metadata": {},
   "outputs": [],
   "source": []
  },
  {
   "cell_type": "markdown",
   "id": "a6e92ee3",
   "metadata": {},
   "source": [
    "### Training and testing the model"
   ]
  },
  {
   "cell_type": "code",
   "execution_count": 60,
   "id": "702fff96",
   "metadata": {},
   "outputs": [],
   "source": [
    "# Set independent and dependent variables\n",
    "X = df_scaled[['people_affected_per_100k','temperature_change_temp_change_celsius', 'number_of_deaths']]\n",
    "y = df_scaled['economic_damages_as_a_share_of_gdp']\n",
    "\n",
    "from sklearn.model_selection import train_test_split\n",
    "#Separo los datos de \"train\" en entrenamiento y prueba para probar los algoritmos\n",
    "X_train, X_test, y_train, y_test = train_test_split(X, y, test_size=0.2)\n",
    "\n",
    "# Initialize model from sklearn and fit it into our data\n",
    "regr = linear_model.LinearRegression()\n",
    "#Entreno el modelo\n",
    "model = regr.fit(X_train, y_train)\n"
   ]
  },
  {
   "cell_type": "code",
   "execution_count": 61,
   "id": "146a41f4",
   "metadata": {},
   "outputs": [],
   "source": [
    "#Realizo una predicción\n",
    "Y_pred_multiple = regr.predict(X_test)"
   ]
  },
  {
   "cell_type": "code",
   "execution_count": 62,
   "id": "cc04e20c",
   "metadata": {},
   "outputs": [
    {
     "name": "stdout",
     "output_type": "stream",
     "text": [
      "[-0.14332241  0.70001544 -0.49083111 -0.32067806 -0.15878486 -0.45706439]\n",
      "12   -0.339506\n",
      "0     0.875091\n",
      "4    -0.339506\n",
      "22   -0.339506\n",
      "16   -0.339506\n",
      "20   -0.339506\n",
      "Name: economic_damages_as_a_share_of_gdp, dtype: float64\n"
     ]
    }
   ],
   "source": [
    "print(Y_pred_multiple)\n",
    "print(y_test)"
   ]
  },
  {
   "cell_type": "code",
   "execution_count": 63,
   "id": "027ae0a3",
   "metadata": {},
   "outputs": [
    {
     "name": "stdout",
     "output_type": "stream",
     "text": [
      "DATOS DEL MODELO REGRESIÓN LINEAL MULTIPLE\n",
      "\n",
      "Valor de las pendientes o coeficientes \"a\":\n",
      "[8.66738487e-01 8.40077322e-02 6.80826232e-04]\n",
      "Valor de la intersección o coeficiente \"b\":\n",
      "-0.0016075756104235936\n"
     ]
    }
   ],
   "source": [
    "print('DATOS DEL MODELO REGRESIÓN LINEAL MULTIPLE')\n",
    "print()\n",
    "print('Valor de las pendientes o coeficientes \"a\":')\n",
    "print(regr.coef_)\n",
    "print('Valor de la intersección o coeficiente \"b\":')\n",
    "print(regr.intercept_)"
   ]
  },
  {
   "cell_type": "code",
   "execution_count": 64,
   "id": "a5b6bfea",
   "metadata": {},
   "outputs": [
    {
     "name": "stdout",
     "output_type": "stream",
     "text": [
      "Precisión del modelo:\n",
      "0.7797909376744676\n"
     ]
    }
   ],
   "source": [
    "print('Precisión del modelo:')\n",
    "print(regr.score(X_train, y_train))"
   ]
  },
  {
   "cell_type": "code",
   "execution_count": 65,
   "id": "a7bdc112",
   "metadata": {},
   "outputs": [
    {
     "name": "stdout",
     "output_type": "stream",
     "text": [
      "                                    OLS Regression Results                                    \n",
      "==============================================================================================\n",
      "Dep. Variable:     economic_damages_as_a_share_of_gdp   R-squared:                       0.780\n",
      "Model:                                            OLS   Adj. R-squared:                  0.747\n",
      "Method:                                 Least Squares   F-statistic:                     23.61\n",
      "Date:                                Fri, 26 Aug 2022   Prob (F-statistic):           8.87e-07\n",
      "Time:                                        00:50:04   Log-Likelihood:                -18.013\n",
      "No. Observations:                                  24   AIC:                             44.03\n",
      "Df Residuals:                                      20   BIC:                             48.74\n",
      "Df Model:                                           3                                         \n",
      "Covariance Type:                            nonrobust                                         \n",
      "==========================================================================================================\n",
      "                                             coef    std err          t      P>|t|      [0.025      0.975]\n",
      "----------------------------------------------------------------------------------------------------------\n",
      "const                                     -0.0016      0.115     -0.014      0.989      -0.242       0.239\n",
      "people_affected_per_100k                   0.8667      0.107      8.080      0.000       0.643       1.090\n",
      "temperature_change_temp_change_celsius     0.0840      0.115      0.729      0.474      -0.156       0.324\n",
      "number_of_deaths                           0.0007      0.105      0.006      0.995      -0.219       0.220\n",
      "==============================================================================\n",
      "Omnibus:                       10.218   Durbin-Watson:                   1.679\n",
      "Prob(Omnibus):                  0.006   Jarque-Bera (JB):               11.480\n",
      "Skew:                           0.797   Prob(JB):                      0.00321\n",
      "Kurtosis:                       5.990   Cond. No.                         1.32\n",
      "==============================================================================\n",
      "\n",
      "Notes:\n",
      "[1] Standard Errors assume that the covariance matrix of the errors is correctly specified.\n"
     ]
    }
   ],
   "source": [
    "X_train = sm.add_constant(X_train, prepend=True)\n",
    "modelo = sm.OLS(endog=y_train, exog=X_train,)\n",
    "modelo = modelo.fit()\n",
    "print(modelo.summary())"
   ]
  },
  {
   "cell_type": "code",
   "execution_count": 66,
   "id": "82f21307",
   "metadata": {},
   "outputs": [
    {
     "name": "stdout",
     "output_type": "stream",
     "text": [
      "const                                     9.890155e-01\n",
      "people_affected_per_100k                  9.988141e-08\n",
      "temperature_change_temp_change_celsius    4.742404e-01\n",
      "number_of_deaths                          9.949030e-01\n",
      "dtype: float64\n"
     ]
    }
   ],
   "source": [
    "print(modelo.pvalues)"
   ]
  },
  {
   "cell_type": "code",
   "execution_count": 67,
   "id": "a4a9de28",
   "metadata": {},
   "outputs": [
    {
     "data": {
      "text/html": [
       "<div>\n",
       "<style scoped>\n",
       "    .dataframe tbody tr th:only-of-type {\n",
       "        vertical-align: middle;\n",
       "    }\n",
       "\n",
       "    .dataframe tbody tr th {\n",
       "        vertical-align: top;\n",
       "    }\n",
       "\n",
       "    .dataframe thead th {\n",
       "        text-align: right;\n",
       "    }\n",
       "</style>\n",
       "<table border=\"1\" class=\"dataframe\">\n",
       "  <thead>\n",
       "    <tr style=\"text-align: right;\">\n",
       "      <th></th>\n",
       "      <th>2.5%</th>\n",
       "      <th>97.5%</th>\n",
       "    </tr>\n",
       "  </thead>\n",
       "  <tbody>\n",
       "    <tr>\n",
       "      <th>const</th>\n",
       "      <td>-0.242153</td>\n",
       "      <td>0.238938</td>\n",
       "    </tr>\n",
       "    <tr>\n",
       "      <th>people_affected_per_100k</th>\n",
       "      <td>0.642984</td>\n",
       "      <td>1.090493</td>\n",
       "    </tr>\n",
       "    <tr>\n",
       "      <th>temperature_change_temp_change_celsius</th>\n",
       "      <td>-0.156255</td>\n",
       "      <td>0.324271</td>\n",
       "    </tr>\n",
       "    <tr>\n",
       "      <th>number_of_deaths</th>\n",
       "      <td>-0.218873</td>\n",
       "      <td>0.220234</td>\n",
       "    </tr>\n",
       "  </tbody>\n",
       "</table>\n",
       "</div>"
      ],
      "text/plain": [
       "                                            2.5%     97.5%\n",
       "const                                  -0.242153  0.238938\n",
       "people_affected_per_100k                0.642984  1.090493\n",
       "temperature_change_temp_change_celsius -0.156255  0.324271\n",
       "number_of_deaths                       -0.218873  0.220234"
      ]
     },
     "execution_count": 67,
     "metadata": {},
     "output_type": "execute_result"
    }
   ],
   "source": [
    "# Intervalos de confianza para los coeficientes del modelo\n",
    "intervalos_ci = modelo.conf_int(alpha=0.05)\n",
    "intervalos_ci.columns = ['2.5%', '97.5%']\n",
    "intervalos_ci"
   ]
  },
  {
   "cell_type": "code",
   "execution_count": null,
   "id": "bfd6ccdd",
   "metadata": {},
   "outputs": [],
   "source": []
  },
  {
   "cell_type": "markdown",
   "id": "613558f5",
   "metadata": {},
   "source": [
    "### Complete model without split"
   ]
  },
  {
   "cell_type": "code",
   "execution_count": 68,
   "id": "fead15bd",
   "metadata": {},
   "outputs": [
    {
     "name": "stdout",
     "output_type": "stream",
     "text": [
      "Intercept: 5.217288755707113e-16\n",
      "Coefficients: [ 0.20898674 -0.0758337   0.88644284  0.01330379 -0.5329804  -0.72768257\n",
      "  0.03645507]\n"
     ]
    }
   ],
   "source": [
    "# Set independent and dependent variables\n",
    "X = df_scaled[['annual_co2_emissions_tons',\n",
    " 'inflation_inflation_gdp_deflation',\n",
    " 'people_affected_per_100k',\n",
    " 'number_of_deaths',\n",
    " 'population_population_growth_annual_percentage',\n",
    " 'population_population_total',\n",
    " 'temperature_change_temp_change_celsius']]\n",
    "y = df_scaled['economic_damages_as_a_share_of_gdp']\n",
    "\n",
    "# Initialize model from sklearn and fit it into our data\n",
    "regr = linear_model.LinearRegression()\n",
    "model = regr.fit(X, y)\n",
    "\n",
    "print('Intercept:', model.intercept_)\n",
    "print('Coefficients:', model.coef_)"
   ]
  },
  {
   "cell_type": "code",
   "execution_count": null,
   "id": "9b79038f",
   "metadata": {},
   "outputs": [],
   "source": []
  },
  {
   "cell_type": "markdown",
   "id": "d249a496",
   "metadata": {},
   "source": [
    "## Model Validation"
   ]
  },
  {
   "cell_type": "code",
   "execution_count": 69,
   "id": "c95cd640",
   "metadata": {},
   "outputs": [
    {
     "name": "stdout",
     "output_type": "stream",
     "text": [
      "                                    OLS Regression Results                                    \n",
      "==============================================================================================\n",
      "Dep. Variable:     economic_damages_as_a_share_of_gdp   R-squared:                       0.797\n",
      "Model:                                            OLS   Adj. R-squared:                  0.732\n",
      "Method:                                 Least Squares   F-statistic:                     12.31\n",
      "Date:                                Fri, 26 Aug 2022   Prob (F-statistic):           2.57e-06\n",
      "Time:                                        00:50:16   Log-Likelihood:                -18.680\n",
      "No. Observations:                                  30   AIC:                             53.36\n",
      "Df Residuals:                                      22   BIC:                             64.57\n",
      "Df Model:                                           7                                         \n",
      "Covariance Type:                            nonrobust                                         \n",
      "==================================================================================================================\n",
      "                                                     coef    std err          t      P>|t|      [0.025      0.975]\n",
      "------------------------------------------------------------------------------------------------------------------\n",
      "const                                          -5.551e-17      0.096  -5.77e-16      1.000      -0.199       0.199\n",
      "annual_co2_emissions_tons                          0.2090      0.304      0.686      0.500      -0.422       0.840\n",
      "inflation_inflation_gdp_deflation                 -0.0758      0.110     -0.690      0.497      -0.304       0.152\n",
      "people_affected_per_100k                           0.8864      0.100      8.824      0.000       0.678       1.095\n",
      "number_of_deaths                                   0.0133      0.101      0.131      0.897      -0.197       0.224\n",
      "population_population_growth_annual_percentage    -0.5330      1.053     -0.506      0.618      -2.717       1.651\n",
      "population_population_total                       -0.7277      1.071     -0.679      0.504      -2.949       1.493\n",
      "temperature_change_temp_change_celsius             0.0365      0.145      0.252      0.803      -0.263       0.336\n",
      "==============================================================================\n",
      "Omnibus:                       15.298   Durbin-Watson:                   2.046\n",
      "Prob(Omnibus):                  0.000   Jarque-Bera (JB):               30.508\n",
      "Skew:                           0.911   Prob(JB):                     2.37e-07\n",
      "Kurtosis:                       7.592   Cond. No.                         29.3\n",
      "==============================================================================\n",
      "\n",
      "Notes:\n",
      "[1] Standard Errors assume that the covariance matrix of the errors is correctly specified.\n"
     ]
    }
   ],
   "source": [
    "X = df_scaled[['annual_co2_emissions_tons',\n",
    " 'inflation_inflation_gdp_deflation',\n",
    " 'people_affected_per_100k',\n",
    " 'number_of_deaths',\n",
    " 'population_population_growth_annual_percentage',\n",
    " 'population_population_total',\n",
    " 'temperature_change_temp_change_celsius']]\n",
    "X = sm.add_constant(X) # adding a constant\n",
    "\n",
    "olsmod_scaled = sm.OLS(df_scaled['economic_damages_as_a_share_of_gdp'], X).fit()\n",
    "print(olsmod_scaled.summary())"
   ]
  },
  {
   "cell_type": "code",
   "execution_count": 70,
   "id": "8560383f",
   "metadata": {},
   "outputs": [
    {
     "name": "stdout",
     "output_type": "stream",
     "text": [
      "R2 score: 0.7965876850555198\n"
     ]
    }
   ],
   "source": [
    "print('R2 score:', olsmod_scaled.rsquared)"
   ]
  },
  {
   "cell_type": "code",
   "execution_count": 71,
   "id": "eb731886",
   "metadata": {},
   "outputs": [
    {
     "name": "stdout",
     "output_type": "stream",
     "text": [
      "F-statistic: 12.307815761165214\n",
      "Probability of observing value at least as high as F-statistic: 2.5652596446466143e-06\n"
     ]
    }
   ],
   "source": [
    "print('F-statistic:', olsmod_scaled.fvalue)\n",
    "print('Probability of observing value at least as high as F-statistic:', olsmod_scaled.f_pvalue)"
   ]
  },
  {
   "cell_type": "code",
   "execution_count": 72,
   "id": "5c2ef0d9",
   "metadata": {},
   "outputs": [
    {
     "name": "stdout",
     "output_type": "stream",
     "text": [
      "const                                             1.000000e+00\n",
      "annual_co2_emissions_tons                         4.995755e-01\n",
      "inflation_inflation_gdp_deflation                 4.972848e-01\n",
      "people_affected_per_100k                          1.116598e-08\n",
      "number_of_deaths                                  8.968375e-01\n",
      "population_population_growth_annual_percentage    6.178564e-01\n",
      "population_population_total                       5.039552e-01\n",
      "temperature_change_temp_change_celsius            8.033010e-01\n",
      "dtype: float64\n"
     ]
    }
   ],
   "source": [
    "print(olsmod_scaled.pvalues)"
   ]
  },
  {
   "cell_type": "markdown",
   "id": "bdc12c5c",
   "metadata": {},
   "source": [
    "MODELO GLS"
   ]
  },
  {
   "cell_type": "code",
   "execution_count": 73,
   "id": "fc585d31",
   "metadata": {},
   "outputs": [
    {
     "ename": "ValueError",
     "evalue": "The indices for endog and exog are not aligned",
     "output_type": "error",
     "traceback": [
      "\u001b[1;31m---------------------------------------------------------------------------\u001b[0m",
      "\u001b[1;31mValueError\u001b[0m                                Traceback (most recent call last)",
      "\u001b[1;32m~\\AppData\\Local\\Temp\\ipykernel_30248\\501402490.py\u001b[0m in \u001b[0;36m<module>\u001b[1;34m\u001b[0m\n\u001b[0;32m     19\u001b[0m \u001b[0mols_resid\u001b[0m \u001b[1;33m=\u001b[0m \u001b[0msm\u001b[0m\u001b[1;33m.\u001b[0m\u001b[0mOLS\u001b[0m\u001b[1;33m(\u001b[0m\u001b[0my\u001b[0m\u001b[1;33m,\u001b[0m \u001b[0mX\u001b[0m\u001b[1;33m)\u001b[0m\u001b[1;33m.\u001b[0m\u001b[0mfit\u001b[0m\u001b[1;33m(\u001b[0m\u001b[1;33m)\u001b[0m\u001b[1;33m.\u001b[0m\u001b[0mresid\u001b[0m\u001b[1;33m\u001b[0m\u001b[1;33m\u001b[0m\u001b[0m\n\u001b[0;32m     20\u001b[0m \u001b[1;33m\u001b[0m\u001b[0m\n\u001b[1;32m---> 21\u001b[1;33m \u001b[0mresid_fit\u001b[0m \u001b[1;33m=\u001b[0m \u001b[0msm\u001b[0m\u001b[1;33m.\u001b[0m\u001b[0mOLS\u001b[0m\u001b[1;33m(\u001b[0m\u001b[0mols_resid\u001b[0m\u001b[1;33m[\u001b[0m\u001b[1;36m1\u001b[0m\u001b[1;33m:\u001b[0m\u001b[1;33m]\u001b[0m\u001b[1;33m,\u001b[0m \u001b[0msm\u001b[0m\u001b[1;33m.\u001b[0m\u001b[0madd_constant\u001b[0m\u001b[1;33m(\u001b[0m\u001b[0mols_resid\u001b[0m\u001b[1;33m[\u001b[0m\u001b[1;33m:\u001b[0m\u001b[1;33m-\u001b[0m\u001b[1;36m1\u001b[0m\u001b[1;33m]\u001b[0m\u001b[1;33m)\u001b[0m\u001b[1;33m)\u001b[0m\u001b[1;33m.\u001b[0m\u001b[0mfit\u001b[0m\u001b[1;33m(\u001b[0m\u001b[1;33m)\u001b[0m\u001b[1;33m\u001b[0m\u001b[1;33m\u001b[0m\u001b[0m\n\u001b[0m\u001b[0;32m     22\u001b[0m \u001b[0mprint\u001b[0m\u001b[1;33m(\u001b[0m\u001b[0mresid_fit\u001b[0m\u001b[1;33m.\u001b[0m\u001b[0mtvalues\u001b[0m\u001b[1;33m[\u001b[0m\u001b[1;36m1\u001b[0m\u001b[1;33m]\u001b[0m\u001b[1;33m)\u001b[0m\u001b[1;33m\u001b[0m\u001b[1;33m\u001b[0m\u001b[0m\n\u001b[0;32m     23\u001b[0m \u001b[0mprint\u001b[0m\u001b[1;33m(\u001b[0m\u001b[0mresid_fit\u001b[0m\u001b[1;33m.\u001b[0m\u001b[0mpvalues\u001b[0m\u001b[1;33m[\u001b[0m\u001b[1;36m1\u001b[0m\u001b[1;33m]\u001b[0m\u001b[1;33m)\u001b[0m\u001b[1;33m\u001b[0m\u001b[1;33m\u001b[0m\u001b[0m\n",
      "\u001b[1;32m~\\anaconda3\\envs\\mlenv\\lib\\site-packages\\statsmodels\\regression\\linear_model.py\u001b[0m in \u001b[0;36m__init__\u001b[1;34m(self, endog, exog, missing, hasconst, **kwargs)\u001b[0m\n\u001b[0;32m    889\u001b[0m             \u001b[0mwarnings\u001b[0m\u001b[1;33m.\u001b[0m\u001b[0mwarn\u001b[0m\u001b[1;33m(\u001b[0m\u001b[0mmsg\u001b[0m\u001b[1;33m,\u001b[0m \u001b[0mValueWarning\u001b[0m\u001b[1;33m)\u001b[0m\u001b[1;33m\u001b[0m\u001b[1;33m\u001b[0m\u001b[0m\n\u001b[0;32m    890\u001b[0m         super(OLS, self).__init__(endog, exog, missing=missing,\n\u001b[1;32m--> 891\u001b[1;33m                                   hasconst=hasconst, **kwargs)\n\u001b[0m\u001b[0;32m    892\u001b[0m         \u001b[1;32mif\u001b[0m \u001b[1;34m\"weights\"\u001b[0m \u001b[1;32min\u001b[0m \u001b[0mself\u001b[0m\u001b[1;33m.\u001b[0m\u001b[0m_init_keys\u001b[0m\u001b[1;33m:\u001b[0m\u001b[1;33m\u001b[0m\u001b[1;33m\u001b[0m\u001b[0m\n\u001b[0;32m    893\u001b[0m             \u001b[0mself\u001b[0m\u001b[1;33m.\u001b[0m\u001b[0m_init_keys\u001b[0m\u001b[1;33m.\u001b[0m\u001b[0mremove\u001b[0m\u001b[1;33m(\u001b[0m\u001b[1;34m\"weights\"\u001b[0m\u001b[1;33m)\u001b[0m\u001b[1;33m\u001b[0m\u001b[1;33m\u001b[0m\u001b[0m\n",
      "\u001b[1;32m~\\anaconda3\\envs\\mlenv\\lib\\site-packages\\statsmodels\\regression\\linear_model.py\u001b[0m in \u001b[0;36m__init__\u001b[1;34m(self, endog, exog, weights, missing, hasconst, **kwargs)\u001b[0m\n\u001b[0;32m    716\u001b[0m             \u001b[0mweights\u001b[0m \u001b[1;33m=\u001b[0m \u001b[0mweights\u001b[0m\u001b[1;33m.\u001b[0m\u001b[0msqueeze\u001b[0m\u001b[1;33m(\u001b[0m\u001b[1;33m)\u001b[0m\u001b[1;33m\u001b[0m\u001b[1;33m\u001b[0m\u001b[0m\n\u001b[0;32m    717\u001b[0m         super(WLS, self).__init__(endog, exog, missing=missing,\n\u001b[1;32m--> 718\u001b[1;33m                                   weights=weights, hasconst=hasconst, **kwargs)\n\u001b[0m\u001b[0;32m    719\u001b[0m         \u001b[0mnobs\u001b[0m \u001b[1;33m=\u001b[0m \u001b[0mself\u001b[0m\u001b[1;33m.\u001b[0m\u001b[0mexog\u001b[0m\u001b[1;33m.\u001b[0m\u001b[0mshape\u001b[0m\u001b[1;33m[\u001b[0m\u001b[1;36m0\u001b[0m\u001b[1;33m]\u001b[0m\u001b[1;33m\u001b[0m\u001b[1;33m\u001b[0m\u001b[0m\n\u001b[0;32m    720\u001b[0m         \u001b[0mweights\u001b[0m \u001b[1;33m=\u001b[0m \u001b[0mself\u001b[0m\u001b[1;33m.\u001b[0m\u001b[0mweights\u001b[0m\u001b[1;33m\u001b[0m\u001b[1;33m\u001b[0m\u001b[0m\n",
      "\u001b[1;32m~\\anaconda3\\envs\\mlenv\\lib\\site-packages\\statsmodels\\regression\\linear_model.py\u001b[0m in \u001b[0;36m__init__\u001b[1;34m(self, endog, exog, **kwargs)\u001b[0m\n\u001b[0;32m    189\u001b[0m     \"\"\"\n\u001b[0;32m    190\u001b[0m     \u001b[1;32mdef\u001b[0m \u001b[0m__init__\u001b[0m\u001b[1;33m(\u001b[0m\u001b[0mself\u001b[0m\u001b[1;33m,\u001b[0m \u001b[0mendog\u001b[0m\u001b[1;33m,\u001b[0m \u001b[0mexog\u001b[0m\u001b[1;33m,\u001b[0m \u001b[1;33m**\u001b[0m\u001b[0mkwargs\u001b[0m\u001b[1;33m)\u001b[0m\u001b[1;33m:\u001b[0m\u001b[1;33m\u001b[0m\u001b[1;33m\u001b[0m\u001b[0m\n\u001b[1;32m--> 191\u001b[1;33m         \u001b[0msuper\u001b[0m\u001b[1;33m(\u001b[0m\u001b[0mRegressionModel\u001b[0m\u001b[1;33m,\u001b[0m \u001b[0mself\u001b[0m\u001b[1;33m)\u001b[0m\u001b[1;33m.\u001b[0m\u001b[0m__init__\u001b[0m\u001b[1;33m(\u001b[0m\u001b[0mendog\u001b[0m\u001b[1;33m,\u001b[0m \u001b[0mexog\u001b[0m\u001b[1;33m,\u001b[0m \u001b[1;33m**\u001b[0m\u001b[0mkwargs\u001b[0m\u001b[1;33m)\u001b[0m\u001b[1;33m\u001b[0m\u001b[1;33m\u001b[0m\u001b[0m\n\u001b[0m\u001b[0;32m    192\u001b[0m         \u001b[0mself\u001b[0m\u001b[1;33m.\u001b[0m\u001b[0m_data_attr\u001b[0m\u001b[1;33m.\u001b[0m\u001b[0mextend\u001b[0m\u001b[1;33m(\u001b[0m\u001b[1;33m[\u001b[0m\u001b[1;34m'pinv_wexog'\u001b[0m\u001b[1;33m,\u001b[0m \u001b[1;34m'wendog'\u001b[0m\u001b[1;33m,\u001b[0m \u001b[1;34m'wexog'\u001b[0m\u001b[1;33m,\u001b[0m \u001b[1;34m'weights'\u001b[0m\u001b[1;33m]\u001b[0m\u001b[1;33m)\u001b[0m\u001b[1;33m\u001b[0m\u001b[1;33m\u001b[0m\u001b[0m\n\u001b[0;32m    193\u001b[0m \u001b[1;33m\u001b[0m\u001b[0m\n",
      "\u001b[1;32m~\\anaconda3\\envs\\mlenv\\lib\\site-packages\\statsmodels\\base\\model.py\u001b[0m in \u001b[0;36m__init__\u001b[1;34m(self, endog, exog, **kwargs)\u001b[0m\n\u001b[0;32m    265\u001b[0m \u001b[1;33m\u001b[0m\u001b[0m\n\u001b[0;32m    266\u001b[0m     \u001b[1;32mdef\u001b[0m \u001b[0m__init__\u001b[0m\u001b[1;33m(\u001b[0m\u001b[0mself\u001b[0m\u001b[1;33m,\u001b[0m \u001b[0mendog\u001b[0m\u001b[1;33m,\u001b[0m \u001b[0mexog\u001b[0m\u001b[1;33m=\u001b[0m\u001b[1;32mNone\u001b[0m\u001b[1;33m,\u001b[0m \u001b[1;33m**\u001b[0m\u001b[0mkwargs\u001b[0m\u001b[1;33m)\u001b[0m\u001b[1;33m:\u001b[0m\u001b[1;33m\u001b[0m\u001b[1;33m\u001b[0m\u001b[0m\n\u001b[1;32m--> 267\u001b[1;33m         \u001b[0msuper\u001b[0m\u001b[1;33m(\u001b[0m\u001b[1;33m)\u001b[0m\u001b[1;33m.\u001b[0m\u001b[0m__init__\u001b[0m\u001b[1;33m(\u001b[0m\u001b[0mendog\u001b[0m\u001b[1;33m,\u001b[0m \u001b[0mexog\u001b[0m\u001b[1;33m,\u001b[0m \u001b[1;33m**\u001b[0m\u001b[0mkwargs\u001b[0m\u001b[1;33m)\u001b[0m\u001b[1;33m\u001b[0m\u001b[1;33m\u001b[0m\u001b[0m\n\u001b[0m\u001b[0;32m    268\u001b[0m         \u001b[0mself\u001b[0m\u001b[1;33m.\u001b[0m\u001b[0minitialize\u001b[0m\u001b[1;33m(\u001b[0m\u001b[1;33m)\u001b[0m\u001b[1;33m\u001b[0m\u001b[1;33m\u001b[0m\u001b[0m\n\u001b[0;32m    269\u001b[0m \u001b[1;33m\u001b[0m\u001b[0m\n",
      "\u001b[1;32m~\\anaconda3\\envs\\mlenv\\lib\\site-packages\\statsmodels\\base\\model.py\u001b[0m in \u001b[0;36m__init__\u001b[1;34m(self, endog, exog, **kwargs)\u001b[0m\n\u001b[0;32m     91\u001b[0m         \u001b[0mhasconst\u001b[0m \u001b[1;33m=\u001b[0m \u001b[0mkwargs\u001b[0m\u001b[1;33m.\u001b[0m\u001b[0mpop\u001b[0m\u001b[1;33m(\u001b[0m\u001b[1;34m'hasconst'\u001b[0m\u001b[1;33m,\u001b[0m \u001b[1;32mNone\u001b[0m\u001b[1;33m)\u001b[0m\u001b[1;33m\u001b[0m\u001b[1;33m\u001b[0m\u001b[0m\n\u001b[0;32m     92\u001b[0m         self.data = self._handle_data(endog, exog, missing, hasconst,\n\u001b[1;32m---> 93\u001b[1;33m                                       **kwargs)\n\u001b[0m\u001b[0;32m     94\u001b[0m         \u001b[0mself\u001b[0m\u001b[1;33m.\u001b[0m\u001b[0mk_constant\u001b[0m \u001b[1;33m=\u001b[0m \u001b[0mself\u001b[0m\u001b[1;33m.\u001b[0m\u001b[0mdata\u001b[0m\u001b[1;33m.\u001b[0m\u001b[0mk_constant\u001b[0m\u001b[1;33m\u001b[0m\u001b[1;33m\u001b[0m\u001b[0m\n\u001b[0;32m     95\u001b[0m         \u001b[0mself\u001b[0m\u001b[1;33m.\u001b[0m\u001b[0mexog\u001b[0m \u001b[1;33m=\u001b[0m \u001b[0mself\u001b[0m\u001b[1;33m.\u001b[0m\u001b[0mdata\u001b[0m\u001b[1;33m.\u001b[0m\u001b[0mexog\u001b[0m\u001b[1;33m\u001b[0m\u001b[1;33m\u001b[0m\u001b[0m\n",
      "\u001b[1;32m~\\anaconda3\\envs\\mlenv\\lib\\site-packages\\statsmodels\\base\\model.py\u001b[0m in \u001b[0;36m_handle_data\u001b[1;34m(self, endog, exog, missing, hasconst, **kwargs)\u001b[0m\n\u001b[0;32m    130\u001b[0m \u001b[1;33m\u001b[0m\u001b[0m\n\u001b[0;32m    131\u001b[0m     \u001b[1;32mdef\u001b[0m \u001b[0m_handle_data\u001b[0m\u001b[1;33m(\u001b[0m\u001b[0mself\u001b[0m\u001b[1;33m,\u001b[0m \u001b[0mendog\u001b[0m\u001b[1;33m,\u001b[0m \u001b[0mexog\u001b[0m\u001b[1;33m,\u001b[0m \u001b[0mmissing\u001b[0m\u001b[1;33m,\u001b[0m \u001b[0mhasconst\u001b[0m\u001b[1;33m,\u001b[0m \u001b[1;33m**\u001b[0m\u001b[0mkwargs\u001b[0m\u001b[1;33m)\u001b[0m\u001b[1;33m:\u001b[0m\u001b[1;33m\u001b[0m\u001b[1;33m\u001b[0m\u001b[0m\n\u001b[1;32m--> 132\u001b[1;33m         \u001b[0mdata\u001b[0m \u001b[1;33m=\u001b[0m \u001b[0mhandle_data\u001b[0m\u001b[1;33m(\u001b[0m\u001b[0mendog\u001b[0m\u001b[1;33m,\u001b[0m \u001b[0mexog\u001b[0m\u001b[1;33m,\u001b[0m \u001b[0mmissing\u001b[0m\u001b[1;33m,\u001b[0m \u001b[0mhasconst\u001b[0m\u001b[1;33m,\u001b[0m \u001b[1;33m**\u001b[0m\u001b[0mkwargs\u001b[0m\u001b[1;33m)\u001b[0m\u001b[1;33m\u001b[0m\u001b[1;33m\u001b[0m\u001b[0m\n\u001b[0m\u001b[0;32m    133\u001b[0m         \u001b[1;31m# kwargs arrays could have changed, easier to just attach here\u001b[0m\u001b[1;33m\u001b[0m\u001b[1;33m\u001b[0m\u001b[1;33m\u001b[0m\u001b[0m\n\u001b[0;32m    134\u001b[0m         \u001b[1;32mfor\u001b[0m \u001b[0mkey\u001b[0m \u001b[1;32min\u001b[0m \u001b[0mkwargs\u001b[0m\u001b[1;33m:\u001b[0m\u001b[1;33m\u001b[0m\u001b[1;33m\u001b[0m\u001b[0m\n",
      "\u001b[1;32m~\\anaconda3\\envs\\mlenv\\lib\\site-packages\\statsmodels\\base\\data.py\u001b[0m in \u001b[0;36mhandle_data\u001b[1;34m(endog, exog, missing, hasconst, **kwargs)\u001b[0m\n\u001b[0;32m    672\u001b[0m     \u001b[0mklass\u001b[0m \u001b[1;33m=\u001b[0m \u001b[0mhandle_data_class_factory\u001b[0m\u001b[1;33m(\u001b[0m\u001b[0mendog\u001b[0m\u001b[1;33m,\u001b[0m \u001b[0mexog\u001b[0m\u001b[1;33m)\u001b[0m\u001b[1;33m\u001b[0m\u001b[1;33m\u001b[0m\u001b[0m\n\u001b[0;32m    673\u001b[0m     return klass(endog, exog=exog, missing=missing, hasconst=hasconst,\n\u001b[1;32m--> 674\u001b[1;33m                  **kwargs)\n\u001b[0m",
      "\u001b[1;32m~\\anaconda3\\envs\\mlenv\\lib\\site-packages\\statsmodels\\base\\data.py\u001b[0m in \u001b[0;36m__init__\u001b[1;34m(self, endog, exog, missing, hasconst, **kwargs)\u001b[0m\n\u001b[0;32m     85\u001b[0m         \u001b[0mself\u001b[0m\u001b[1;33m.\u001b[0m\u001b[0mk_constant\u001b[0m \u001b[1;33m=\u001b[0m \u001b[1;36m0\u001b[0m\u001b[1;33m\u001b[0m\u001b[1;33m\u001b[0m\u001b[0m\n\u001b[0;32m     86\u001b[0m         \u001b[0mself\u001b[0m\u001b[1;33m.\u001b[0m\u001b[0m_handle_constant\u001b[0m\u001b[1;33m(\u001b[0m\u001b[0mhasconst\u001b[0m\u001b[1;33m)\u001b[0m\u001b[1;33m\u001b[0m\u001b[1;33m\u001b[0m\u001b[0m\n\u001b[1;32m---> 87\u001b[1;33m         \u001b[0mself\u001b[0m\u001b[1;33m.\u001b[0m\u001b[0m_check_integrity\u001b[0m\u001b[1;33m(\u001b[0m\u001b[1;33m)\u001b[0m\u001b[1;33m\u001b[0m\u001b[1;33m\u001b[0m\u001b[0m\n\u001b[0m\u001b[0;32m     88\u001b[0m         \u001b[0mself\u001b[0m\u001b[1;33m.\u001b[0m\u001b[0m_cache\u001b[0m \u001b[1;33m=\u001b[0m \u001b[1;33m{\u001b[0m\u001b[1;33m}\u001b[0m\u001b[1;33m\u001b[0m\u001b[1;33m\u001b[0m\u001b[0m\n\u001b[0;32m     89\u001b[0m \u001b[1;33m\u001b[0m\u001b[0m\n",
      "\u001b[1;32m~\\anaconda3\\envs\\mlenv\\lib\\site-packages\\statsmodels\\base\\data.py\u001b[0m in \u001b[0;36m_check_integrity\u001b[1;34m(self)\u001b[0m\n\u001b[0;32m    529\u001b[0m                 \u001b[1;33m(\u001b[0m\u001b[0mhasattr\u001b[0m\u001b[1;33m(\u001b[0m\u001b[0mendog\u001b[0m\u001b[1;33m,\u001b[0m \u001b[1;34m'index'\u001b[0m\u001b[1;33m)\u001b[0m \u001b[1;32mand\u001b[0m \u001b[0mhasattr\u001b[0m\u001b[1;33m(\u001b[0m\u001b[0mexog\u001b[0m\u001b[1;33m,\u001b[0m \u001b[1;34m'index'\u001b[0m\u001b[1;33m)\u001b[0m\u001b[1;33m)\u001b[0m \u001b[1;32mand\u001b[0m\u001b[1;33m\u001b[0m\u001b[1;33m\u001b[0m\u001b[0m\n\u001b[0;32m    530\u001b[0m                 not self.orig_endog.index.equals(self.orig_exog.index)):\n\u001b[1;32m--> 531\u001b[1;33m             \u001b[1;32mraise\u001b[0m \u001b[0mValueError\u001b[0m\u001b[1;33m(\u001b[0m\u001b[1;34m\"The indices for endog and exog are not aligned\"\u001b[0m\u001b[1;33m)\u001b[0m\u001b[1;33m\u001b[0m\u001b[1;33m\u001b[0m\u001b[0m\n\u001b[0m\u001b[0;32m    532\u001b[0m         \u001b[0msuper\u001b[0m\u001b[1;33m(\u001b[0m\u001b[0mPandasData\u001b[0m\u001b[1;33m,\u001b[0m \u001b[0mself\u001b[0m\u001b[1;33m)\u001b[0m\u001b[1;33m.\u001b[0m\u001b[0m_check_integrity\u001b[0m\u001b[1;33m(\u001b[0m\u001b[1;33m)\u001b[0m\u001b[1;33m\u001b[0m\u001b[1;33m\u001b[0m\u001b[0m\n\u001b[0;32m    533\u001b[0m \u001b[1;33m\u001b[0m\u001b[0m\n",
      "\u001b[1;31mValueError\u001b[0m: The indices for endog and exog are not aligned"
     ]
    }
   ],
   "source": [
    "from __future__ import print_function\n",
    "import statsmodels.api as sm\n",
    "import numpy as np\n",
    "from statsmodels.iolib.table import (SimpleTable, default_txt_fmt)\n",
    "\n",
    "# Set independent and dependent variables\n",
    "\n",
    "X = df_scaled[['annual_co2_emissions_tons',\n",
    " 'inflation_inflation_gdp_deflation',\n",
    " 'people_affected_per_100k',\n",
    " 'number_of_deaths',\n",
    " 'population_population_growth_annual_percentage',\n",
    " 'population_population_total',\n",
    " 'temperature_change_temp_change_celsius']]\n",
    "y = df_scaled['economic_damages_as_a_share_of_gdp']\n",
    "\n",
    "# Primero obtendremos los residuos del ajuste.\n",
    "\n",
    "ols_resid = sm.OLS(y, X).fit().resid\n",
    "\n",
    "resid_fit = sm.OLS(ols_resid[1:], sm.add_constant(ols_resid[:-1])).fit()\n",
    "print(resid_fit.tvalues[1])\n",
    "print(resid_fit.pvalues[1])\n",
    "\n",
    "rho = resid_fit.params[1]\n",
    "\n",
    "from scipy.linalg import toeplitz\n",
    "\n",
    "toeplitz(range(5))\n",
    "\n",
    "order = toeplitz(range(len(ols_resid)))\n",
    "\n",
    "sigma = rho**order\n",
    "gls_model = sm.GLS(y, X, sigma=sigma)\n",
    "gls_results = gls_model.fit()\n",
    "\n",
    "glsar_model = sm.GLSAR(y, X, 1)\n",
    "glsar_results = glsar_model.iterative_fit(1)\n",
    "print(glsar_results.summary())"
   ]
  },
  {
   "cell_type": "markdown",
   "id": "3ed4fde5",
   "metadata": {},
   "source": [
    "### Modelo "
   ]
  },
  {
   "cell_type": "code",
   "execution_count": 74,
   "id": "22abacb1",
   "metadata": {},
   "outputs": [
    {
     "name": "stdout",
     "output_type": "stream",
     "text": [
      "Intercept: -6.525011904284762e-17\n",
      "Coefficients: [0.88421663]\n"
     ]
    }
   ],
   "source": [
    "# Set independent and dependent variables\n",
    "X = df_scaled[['people_affected_per_100k']]\n",
    "y = df_scaled['economic_damages_as_a_share_of_gdp']\n",
    "\n",
    "# Initialize model from sklearn and fit it into our data\n",
    "regr = linear_model.LinearRegression()\n",
    "model = regr.fit(X, y)\n",
    "\n",
    "print('Intercept:', model.intercept_)\n",
    "print('Coefficients:', model.coef_)"
   ]
  },
  {
   "cell_type": "code",
   "execution_count": 75,
   "id": "88c5c5ff",
   "metadata": {},
   "outputs": [
    {
     "name": "stdout",
     "output_type": "stream",
     "text": [
      "                                    OLS Regression Results                                    \n",
      "==============================================================================================\n",
      "Dep. Variable:     economic_damages_as_a_share_of_gdp   R-squared:                       0.782\n",
      "Model:                                            OLS   Adj. R-squared:                  0.774\n",
      "Method:                                 Least Squares   F-statistic:                     100.3\n",
      "Date:                                Fri, 26 Aug 2022   Prob (F-statistic):           9.27e-11\n",
      "Time:                                        00:51:51   Log-Likelihood:                -19.730\n",
      "No. Observations:                                  30   AIC:                             43.46\n",
      "Df Residuals:                                      28   BIC:                             46.26\n",
      "Df Model:                                           1                                         \n",
      "Covariance Type:                            nonrobust                                         \n",
      "============================================================================================\n",
      "                               coef    std err          t      P>|t|      [0.025      0.975]\n",
      "--------------------------------------------------------------------------------------------\n",
      "const                    -4.163e-17      0.088  -4.72e-16      1.000      -0.181       0.181\n",
      "people_affected_per_100k     0.8842      0.088     10.017      0.000       0.703       1.065\n",
      "==============================================================================\n",
      "Omnibus:                       15.461   Durbin-Watson:                   2.001\n",
      "Prob(Omnibus):                  0.000   Jarque-Bera (JB):               33.729\n",
      "Skew:                           0.865   Prob(JB):                     4.74e-08\n",
      "Kurtosis:                       7.898   Cond. No.                         1.00\n",
      "==============================================================================\n",
      "\n",
      "Notes:\n",
      "[1] Standard Errors assume that the covariance matrix of the errors is correctly specified.\n"
     ]
    }
   ],
   "source": [
    "X = df_scaled[['people_affected_per_100k',]]\n",
    "X = sm.add_constant(X) # adding a constant\n",
    "\n",
    "olsmod_scaled = sm.OLS(df_scaled['economic_damages_as_a_share_of_gdp'], X).fit()\n",
    "print(olsmod_scaled.summary())"
   ]
  },
  {
   "cell_type": "code",
   "execution_count": 76,
   "id": "5ebc6d69",
   "metadata": {},
   "outputs": [
    {
     "name": "stdout",
     "output_type": "stream",
     "text": [
      "R2 score: 0.7818390448626643\n"
     ]
    }
   ],
   "source": [
    "print('R2 score:', olsmod_scaled.rsquared)"
   ]
  },
  {
   "cell_type": "code",
   "execution_count": 77,
   "id": "8264999a",
   "metadata": {},
   "outputs": [
    {
     "name": "stdout",
     "output_type": "stream",
     "text": [
      "F-statistic: 100.3456060337358\n",
      "Probability of observing value at least as high as F-statistic: 9.265056444078448e-11\n"
     ]
    }
   ],
   "source": [
    "print('F-statistic:', olsmod_scaled.fvalue)\n",
    "print('Probability of observing value at least as high as F-statistic:', olsmod_scaled.f_pvalue)"
   ]
  },
  {
   "cell_type": "code",
   "execution_count": 78,
   "id": "d0d61fef",
   "metadata": {},
   "outputs": [
    {
     "name": "stdout",
     "output_type": "stream",
     "text": [
      "const                       1.000000e+00\n",
      "people_affected_per_100k    9.265056e-11\n",
      "dtype: float64\n"
     ]
    }
   ],
   "source": [
    "print(olsmod_scaled.pvalues)"
   ]
  },
  {
   "cell_type": "code",
   "execution_count": 79,
   "id": "a5c541d1",
   "metadata": {},
   "outputs": [],
   "source": [
    "df_scaled['residual'] = olsmod_scaled.resid"
   ]
  },
  {
   "cell_type": "markdown",
   "id": "d2f7bc7f",
   "metadata": {},
   "source": [
    "### Assumption Testing"
   ]
  },
  {
   "cell_type": "markdown",
   "id": "f0a11e86",
   "metadata": {},
   "source": [
    "#### Linearity:\n",
    "This assumes that there is a linear relationship between the independent variables and the dependent variable. In our case since we have multiple independent variables, we can do this by using a scatter plot to see our predicted values versus the actual values."
   ]
  },
  {
   "cell_type": "code",
   "execution_count": 80,
   "id": "a3932f47",
   "metadata": {},
   "outputs": [],
   "source": [
    "df_scaled['predictions'] = olsmod.predict(X)"
   ]
  },
  {
   "cell_type": "code",
   "execution_count": 81,
   "id": "0a8c6d8d",
   "metadata": {},
   "outputs": [
    {
     "name": "stderr",
     "output_type": "stream",
     "text": [
      "C:\\Users\\Laura\\anaconda3\\envs\\mlenv\\lib\\site-packages\\seaborn\\regression.py:581: UserWarning: The `size` parameter has been renamed to `height`; please update your code.\n",
      "  warnings.warn(msg, UserWarning)\n"
     ]
    },
    {
     "data": {
      "image/png": "[encoded data removed]",
      "text/plain": [
       "<Figure size 360x360 with 1 Axes>"
      ]
     },
     "metadata": {
      "needs_background": "light"
     },
     "output_type": "display_data"
    }
   ],
   "source": [
    "# Plotting the observed vs predicted values\n",
    "sb.lmplot(x='economic_damages_as_a_share_of_gdp', y='predictions', data=df_scaled, fit_reg=False, size=5)\n",
    "    \n",
    "# Plotting the diagonal line\n",
    "line_coords = np.arange(df_scaled[['economic_damages_as_a_share_of_gdp', 'predictions']].min().min()-10, \n",
    "                        df_scaled[['economic_damages_as_a_share_of_gdp', 'predictions']].max().max()+10)\n",
    "plt.plot(line_coords, line_coords,  # X and y points\n",
    "         color='darkorange', linestyle='--')\n",
    "\n",
    "plt.ylabel('predictions', fontsize=14)\n",
    "plt.xlabel('economic_damages_as_a_share_of_gdp', fontsize=14)\n",
    "plt.title('Linearity Assumption', fontsize=16)\n",
    "plt.show()"
   ]
  },
  {
   "cell_type": "markdown",
   "id": "a1c847d9",
   "metadata": {},
   "source": [
    "The scatter plots show residual point dont spread around the diagonal line, so we can assume that there isnt linear relationship between our independent and dependent variables."
   ]
  },
  {
   "cell_type": "markdown",
   "id": "3c6f68ed",
   "metadata": {},
   "source": [
    "#### Normality:\n",
    "This assumes that the error terms of the model are normally distributed. We will examine the normality of the residuals by plotting it into histogram and looking at the p-value from the Anderson-Darling test for normality. "
   ]
  },
  {
   "cell_type": "code",
   "execution_count": 82,
   "id": "bb27cf54",
   "metadata": {},
   "outputs": [
    {
     "name": "stdout",
     "output_type": "stream",
     "text": [
      "p-value from the test Anderson-Darling test below 0.05 generally means non-normal: 3.2693848031137105e-09\n"
     ]
    },
    {
     "name": "stderr",
     "output_type": "stream",
     "text": [
      "C:\\Users\\Laura\\anaconda3\\envs\\mlenv\\lib\\site-packages\\seaborn\\distributions.py:2619: FutureWarning: `distplot` is a deprecated function and will be removed in a future version. Please adapt your code to use either `displot` (a figure-level function with similar flexibility) or `histplot` (an axes-level function for histograms).\n",
      "  warnings.warn(msg, FutureWarning)\n"
     ]
    },
    {
     "data": {
      "image/png": "[encoded data removed]",
      "text/plain": [
       "<Figure size 576x288 with 1 Axes>"
      ]
     },
     "metadata": {
      "needs_background": "light"
     },
     "output_type": "display_data"
    },
    {
     "name": "stdout",
     "output_type": "stream",
     "text": [
      "Residuals are not normally distributed\n"
     ]
    }
   ],
   "source": [
    "from statsmodels.stats.diagnostic import normal_ad\n",
    "\n",
    "# Performing the test on the residuals\n",
    "p_value = normal_ad(df_scaled['residual'])[1]\n",
    "print('p-value from the test Anderson-Darling test below 0.05 generally means non-normal:', p_value)\n",
    "\n",
    "# Plotting the residuals distribution\n",
    "plt.subplots(figsize=(8, 4))\n",
    "plt.title('Distribution of Residuals', fontsize=18)\n",
    "sb.distplot(df_scaled['residual'])\n",
    "plt.show()\n",
    "\n",
    "# Reporting the normality of the residuals\n",
    "if p_value < 0.05:\n",
    "    print('Residuals are not normally distributed')\n",
    "else:\n",
    "    print('Residuals are normally distributed')"
   ]
  },
  {
   "cell_type": "markdown",
   "id": "b25a8c63",
   "metadata": {},
   "source": [
    "#### Multicollinearity:\n",
    "This assumes that the predictors used in the regression are not correlated with each other. To identify if there are any correlation between our predictors we can calculate the Pearson correlation coefficient between each column in our data"
   ]
  },
  {
   "cell_type": "code",
   "execution_count": 83,
   "id": "96c1f01b",
   "metadata": {},
   "outputs": [
    {
     "name": "stdout",
     "output_type": "stream",
     "text": [
      "Pearson correlation coefficient matrix of each variables:\n",
      "                                     people_affected_per_100k  \\\n",
      "people_affected_per_100k                            1.000000   \n",
      "economic_damages_as_a_share_of_gdp                  0.884217   \n",
      "\n",
      "                                    economic_damages_as_a_share_of_gdp  \n",
      "people_affected_per_100k                                      0.884217  \n",
      "economic_damages_as_a_share_of_gdp                            1.000000  \n"
     ]
    },
    {
     "name": "stderr",
     "output_type": "stream",
     "text": [
      "C:\\Users\\Laura\\anaconda3\\envs\\mlenv\\lib\\site-packages\\ipykernel_launcher.py:5: DeprecationWarning: `np.bool` is a deprecated alias for the builtin `bool`. To silence this warning, use `bool` by itself. Doing this will not modify any behavior and is safe. If you specifically wanted the numpy scalar type, use `np.bool_` here.\n",
      "Deprecated in NumPy 1.20; for more details and guidance: https://numpy.org/devdocs/release/1.20.0-notes.html#deprecations\n",
      "  \"\"\"\n"
     ]
    },
    {
     "data": {
      "image/png": "[encoded data removed]",
      "text/plain": [
       "<Figure size 288x216 with 2 Axes>"
      ]
     },
     "metadata": {
      "needs_background": "light"
     },
     "output_type": "display_data"
    }
   ],
   "source": [
    "corr = df_scaled[['people_affected_per_100k','economic_damages_as_a_share_of_gdp']].corr()\n",
    "print('Pearson correlation coefficient matrix of each variables:\\n', corr)\n",
    "\n",
    "# Generate a mask for the diagonal cell\n",
    "mask = np.zeros_like(corr, dtype=np.bool)\n",
    "np.fill_diagonal(mask, val=True)\n",
    "\n",
    "# Initialize matplotlib figure\n",
    "fig, ax = plt.subplots(figsize=(4, 3))\n",
    "\n",
    "# Generate a custom diverging colormap\n",
    "cmap = sb.diverging_palette(220, 10, as_cmap=True, sep=100)\n",
    "cmap.set_bad('grey')\n",
    "\n",
    "# Draw the heatmap with the mask and correct aspect ratio\n",
    "sb.heatmap(corr, mask=mask, cmap=cmap, vmin=-1, vmax=1, center=0, linewidths=.5)\n",
    "fig.suptitle('Pearson correlation coefficient matrix', fontsize=14)\n",
    "ax.tick_params(axis='both', which='major', labelsize=10)\n",
    "# fig.tight_layout()"
   ]
  },
  {
   "cell_type": "markdown",
   "id": "b79985c4",
   "metadata": {},
   "source": [
    "#### Autocorrelation\n",
    "Autocorrelation is correlation of the errors (residuals) over time. Used when data are collected over time to detect if autocorrelation is present. Autocorrelation exists if residuals in one time period are related to residuals in another period. We can detect autocorrelation by performing Durbin-Watson test to determine if either positive or negative correlation is present. In this step we will use the durbin_watson () function from statsmodel to calculate our Durbin-Watson score and then assess the value with the following condition:\n",
    "\n",
    "If the Durbin-Watson score is less than 1.5 then there is a positive autocorrelation and the assumption is not satisfied\n",
    "\n",
    "\n",
    "If the Durbin-Watson score is between 1.5 and 2.5 then there is no autocorrelation and the assumption is satisfied\n",
    "\n",
    "\n",
    "If the Durbin-Watson score is more than 2.5 then there is a negative autocorrelation and the assumption is not satisfied"
   ]
  },
  {
   "cell_type": "code",
   "execution_count": 85,
   "id": "00b4188c",
   "metadata": {},
   "outputs": [
    {
     "name": "stdout",
     "output_type": "stream",
     "text": [
      "Durbin-Watson: 2.0006103132714963\n",
      "Little to no autocorrelation \n",
      "\n",
      "Assumption satisfied\n"
     ]
    }
   ],
   "source": [
    "from statsmodels.stats.stattools import durbin_watson\n",
    "\n",
    "durbinWatson = durbin_watson(df_scaled['residual'])\n",
    "\n",
    "print('Durbin-Watson:', durbinWatson)\n",
    "if durbinWatson < 1.5:\n",
    "    print('Signs of positive autocorrelation', '\\n')\n",
    "    print('Assumption not satisfied')\n",
    "elif durbinWatson > 2.5:\n",
    "    print('Signs of negative autocorrelation', '\\n')\n",
    "    print('Assumption not satisfied')\n",
    "else:\n",
    "    print('Little to no autocorrelation', '\\n')\n",
    "    print('Assumption satisfied')"
   ]
  },
  {
   "cell_type": "markdown",
   "id": "07f19d18",
   "metadata": {},
   "source": [
    "#### Homoscedasticity\n",
    "This assumes homoscedasticity, which is the same variance within our error terms. Heteroscedasticity, the violation of homoscedasticity, occurs when we don’t have an even variance across the error terms. To detect homoscedasticity, we can plot our residual and see if the variance appears to be uniform."
   ]
  },
  {
   "cell_type": "code",
   "execution_count": 86,
   "id": "113bf107",
   "metadata": {},
   "outputs": [
    {
     "data": {
      "image/png": "[encoded data removed]",
      "text/plain": [
       "<Figure size 576x288 with 1 Axes>"
      ]
     },
     "metadata": {
      "needs_background": "light"
     },
     "output_type": "display_data"
    }
   ],
   "source": [
    "# Plotting the residuals\n",
    "plt.subplots(figsize=(8, 4))\n",
    "plt.scatter(x=df_scaled.index, y=df_scaled.residual, alpha=0.8)\n",
    "plt.plot(np.repeat(0, len(df_scaled.index)+2), color='darkorange', linestyle='--')\n",
    "\n",
    "plt.ylabel('Residual', fontsize=14)\n",
    "plt.xlabel('year', fontsize=14)\n",
    "plt.title('Homescedasticity Assumption', fontsize=16)\n",
    "plt.show()  "
   ]
  },
  {
   "cell_type": "code",
   "execution_count": null,
   "id": "8a4e6bf1",
   "metadata": {},
   "outputs": [],
   "source": []
  },
  {
   "cell_type": "code",
   "execution_count": null,
   "id": "8910c85d",
   "metadata": {},
   "outputs": [],
   "source": []
  }
 ],
 "metadata": {
  "kernelspec": {
   "display_name": "mlenv",
   "language": "python",
   "name": "mlenv"
  },
  "language_info": {
   "codemirror_mode": {
    "name": "ipython",
    "version": 3
   },
   "file_extension": ".py",
   "mimetype": "text/x-python",
   "name": "python",
   "nbconvert_exporter": "python",
   "pygments_lexer": "ipython3",
   "version": "3.7.13"
  }
 },
 "nbformat": 4,
 "nbformat_minor": 5
}
